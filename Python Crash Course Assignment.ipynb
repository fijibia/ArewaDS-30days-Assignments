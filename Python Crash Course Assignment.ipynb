{
 "cells": [
  {
   "cell_type": "markdown",
   "metadata": {},
   "source": [
    "### FUNCTION EXERCISES"
   ]
  },
  {
   "cell_type": "code",
   "execution_count": 2,
   "metadata": {},
   "outputs": [
    {
     "name": "stdout",
     "output_type": "stream",
     "text": [
      "In this chapter, I am learning about Python functions and how to structure and call them.\n"
     ]
    }
   ],
   "source": [
    "# 8-1\n",
    "def display_message():\n",
    "    print(\"In this chapter, I am learning about Python functions and how to structure and call them.\")\n",
    "\n",
    "# Call the function to display the message\n",
    "display_message()\n"
   ]
  },
  {
   "cell_type": "code",
   "execution_count": 1,
   "metadata": {},
   "outputs": [
    {
     "name": "stdout",
     "output_type": "stream",
     "text": [
      "One of my favorite books is Alice in Wonderland.\n"
     ]
    }
   ],
   "source": [
    "# 8-2\n",
    "\n",
    "def favorite_book(title):\n",
    "    print(f\"One of my favorite books is {title}.\")\n",
    "\n",
    "# Call the function with a specific book title\n",
    "favorite_book(\"Alice in Wonderland\")\n"
   ]
  },
  {
   "cell_type": "code",
   "execution_count": 3,
   "metadata": {},
   "outputs": [
    {
     "name": "stdout",
     "output_type": "stream",
     "text": [
      "Made a Medium-sized shirt with the message: 'Python is cool!'.\n",
      "Made a Large-sized shirt with the message: 'Hello, World!'.\n"
     ]
    }
   ],
   "source": [
    "# 8-3\n",
    "\n",
    "def make_shirt(size, message):\n",
    "    print(f\"Made a {size}-sized shirt with the message: '{message}'.\")\n",
    "\n",
    "# Call the function using positional arguments\n",
    "make_shirt(\"Medium\", \"Python is cool!\")\n",
    "\n",
    "# Call the function using keyword arguments\n",
    "make_shirt(size=\"Large\", message=\"Hello, World!\")\n"
   ]
  },
  {
   "cell_type": "code",
   "execution_count": 4,
   "metadata": {},
   "outputs": [
    {
     "name": "stdout",
     "output_type": "stream",
     "text": [
      "Made a Large-sized shirt with the message: 'I love Python'.\n",
      "Made a Medium-sized shirt with the message: 'I love Python'.\n",
      "Made a Small-sized shirt with the message: 'Python is awesome!'.\n"
     ]
    }
   ],
   "source": [
    "# 8-4\n",
    "\n",
    "def make_shirt(size=\"Large\", message=\"I love Python\"):\n",
    "    print(f\"Made a {size}-sized shirt with the message: '{message}'.\")\n",
    "\n",
    "# Make a large shirt with the default message\n",
    "make_shirt()\n",
    "\n",
    "# Make a medium shirt with the default message\n",
    "make_shirt(size=\"Medium\")\n",
    "\n",
    "# Make a shirt of any size with a different message\n",
    "make_shirt(size=\"Small\", message=\"Python is awesome!\")\n"
   ]
  },
  {
   "cell_type": "code",
   "execution_count": 5,
   "metadata": {},
   "outputs": [
    {
     "name": "stdout",
     "output_type": "stream",
     "text": [
      "Katsina is in INigeria.\n",
      "Madina is in KSA.\n",
      "Bauchi is in Default Country.\n"
     ]
    }
   ],
   "source": [
    "# 8-5 \n",
    "\n",
    "def describe_city(city, country=\"Default Country\"):\n",
    "    print(f\"{city} is in {country}.\")\n",
    "\n",
    "# Call the function for three different cities\n",
    "describe_city(\"Katsina\", \"INigeria\")\n",
    "describe_city(\"Madina\", \"KSA\")\n",
    "describe_city(\"Bauchi\")  # Using the default country\n"
   ]
  },
  {
   "cell_type": "code",
   "execution_count": 6,
   "metadata": {},
   "outputs": [
    {
     "name": "stdout",
     "output_type": "stream",
     "text": [
      "Bauchi, Nigeria\n",
      "Makkah, KSA\n",
      "Moscow, Russia\n"
     ]
    }
   ],
   "source": [
    "# 8-6\n",
    "\n",
    "def city_country(city, country):\n",
    "    return f\"{city}, {country}\"\n",
    "\n",
    "# Call the function with three city-country pairs\n",
    "result1 = city_country(\"Bauchi\", \"Nigeria\")\n",
    "result2 = city_country(\"Makkah\", \"KSA\")\n",
    "result3 = city_country(\"Moscow\", \"Russia\")\n",
    "\n",
    "# Print the values returned\n",
    "print(result1)\n",
    "print(result2)\n",
    "print(result3)\n"
   ]
  },
  {
   "cell_type": "code",
   "execution_count": 7,
   "metadata": {},
   "outputs": [
    {
     "name": "stdout",
     "output_type": "stream",
     "text": [
      "{'artist': 'Coldplay', 'title': 'A Rush of Blood to the Head'}\n",
      "{'artist': 'Ed Sheeran', 'title': 'Divide'}\n",
      "{'artist': 'Taylor Swift', 'title': '1989', 'num_songs': 13}\n"
     ]
    }
   ],
   "source": [
    "# 8-7\n",
    "\n",
    "def make_album(artist, title, num_songs=None):\n",
    "    album_info = {'artist': artist, 'title': title}\n",
    "    \n",
    "    if num_songs is not None:\n",
    "        album_info['num_songs'] = num_songs\n",
    "    \n",
    "    return album_info\n",
    "\n",
    "# Make three dictionaries representing different albums\n",
    "album1 = make_album(\"Coldplay\", \"A Rush of Blood to the Head\")\n",
    "album2 = make_album(\"Ed Sheeran\", \"Divide\")\n",
    "album3 = make_album(\"Taylor Swift\", \"1989\", num_songs=13)\n",
    "\n",
    "# Print each return value\n",
    "print(album1)\n",
    "print(album2)\n",
    "print(album3)\n"
   ]
  },
  {
   "cell_type": "code",
   "execution_count": 8,
   "metadata": {},
   "outputs": [
    {
     "name": "stdout",
     "output_type": "stream",
     "text": [
      "{'artist': 'Asnanic', 'title': 'Zuciya'}\n",
      "{'artist': 'Nazifi', 'title': 'Madara'}\n",
      "{'artist': 'M_Shareef', 'title': 'Soyayya'}\n",
      "{'artist': '', 'title': ''}\n",
      "{'artist': '', 'title': ''}\n",
      "{'artist': '', 'title': ''}\n",
      "{'artist': 'Barbara', 'title': 'Oakley'}\n",
      "{'artist': '', 'title': ''}\n",
      "{'artist': '', 'title': ''}\n"
     ]
    }
   ],
   "source": [
    "# 8-8\n",
    "\n",
    "def make_album(artist, title, num_songs=None):\n",
    "    album_info = {'artist': artist, 'title': title}\n",
    "    \n",
    "    if num_songs is not None:\n",
    "        album_info['num_songs'] = num_songs\n",
    "    \n",
    "    return album_info\n",
    "\n",
    "# Initialize an empty dictionary to store album information\n",
    "albums_collection = {}\n",
    "\n",
    "# Prompt the user to enter album information\n",
    "while True:\n",
    "    artist_input = input(\"Enter the artist (or 'quit' to exit): \")\n",
    "    \n",
    "    if artist_input.lower() == 'quit':\n",
    "        break  # Exit the loop if the user enters 'quit'\n",
    "    \n",
    "    title_input = input(\"Enter the album title: \")\n",
    "    \n",
    "    # Call make_album with user input and store the result in the dictionary\n",
    "    album_info = make_album(artist_input, title_input)\n",
    "    \n",
    "    # Print the created dictionary\n",
    "    print(album_info)\n",
    "    \n",
    "    # Store the album information in the collection\n",
    "    albums_collection[title_input] = album_info\n",
    "\n",
    "# Print the final collection of entered albums\n",
    "print(\"\\nCollection of Entered Albums:\")\n",
    "for title, info in albums_collection.items():\n",
    "    print(f\"{title}: {info}\")\n"
   ]
  },
  {
   "cell_type": "code",
   "execution_count": 1,
   "metadata": {},
   "outputs": [
    {
     "name": "stdout",
     "output_type": "stream",
     "text": [
      "Hello, how are you?\n",
      "Python is fun!\n",
      "Learning programming is exciting!\n",
      "Have a great day!\n",
      "Coding is like solving puzzles.\n"
     ]
    }
   ],
   "source": [
    "#8-9\n",
    "\n",
    "def show_messages(messages):\n",
    "    for message in messages:\n",
    "        print(message)\n",
    "\n",
    "# Define a list of short text messages\n",
    "text_messages = [\n",
    "    \"Hello, how are you?\",\n",
    "    \"Python is fun!\",\n",
    "    \"Learning programming is exciting!\",\n",
    "    \"Have a great day!\",\n",
    "    \"Coding is like solving puzzles.\"\n",
    "]\n",
    "\n",
    "# Call the show_messages function to print each message\n",
    "show_messages(text_messages)\n"
   ]
  },
  {
   "cell_type": "code",
   "execution_count": 2,
   "metadata": {},
   "outputs": [
    {
     "name": "stdout",
     "output_type": "stream",
     "text": [
      "Sending message: Hello, how are you?\n",
      "Sending message: Python is fun!\n",
      "Sending message: Learning programming is exciting!\n",
      "Sending message: Have a great day!\n",
      "Sending message: Coding is like solving puzzles.\n",
      "Original List:\n",
      "\n",
      "Sent Messages:\n",
      "Hello, how are you?\n",
      "Python is fun!\n",
      "Learning programming is exciting!\n",
      "Have a great day!\n",
      "Coding is like solving puzzles.\n"
     ]
    }
   ],
   "source": [
    "# 8-10\n",
    "\n",
    "def show_messages(messages):\n",
    "    for message in messages:\n",
    "        print(message)\n",
    "\n",
    "def send_messages(messages, sent_messages):\n",
    "    while messages:\n",
    "        current_message = messages.pop(0)\n",
    "        print(f\"Sending message: {current_message}\")\n",
    "        sent_messages.append(current_message)\n",
    "\n",
    "# Define a list of short text messages\n",
    "text_messages = [\n",
    "    \"Hello, how are you?\",\n",
    "    \"Python is fun!\",\n",
    "    \"Learning programming is exciting!\",\n",
    "    \"Have a great day!\",\n",
    "    \"Coding is like solving puzzles.\"\n",
    "]\n",
    "\n",
    "# Initialize an empty list to store sent messages\n",
    "sent_messages = []\n",
    "\n",
    "# Call the send_messages function to send and move messages\n",
    "send_messages(text_messages, sent_messages)\n",
    "\n",
    "# Print the original list of messages\n",
    "print(\"Original List:\")\n",
    "show_messages(text_messages)\n",
    "\n",
    "# Print the list of sent messages\n",
    "print(\"\\nSent Messages:\")\n",
    "show_messages(sent_messages)\n"
   ]
  }
 ],
 "metadata": {
  "kernelspec": {
   "display_name": "Python 3",
   "language": "python",
   "name": "python3"
  },
  "language_info": {
   "codemirror_mode": {
    "name": "ipython",
    "version": 3
   },
   "file_extension": ".py",
   "mimetype": "text/x-python",
   "name": "python",
   "nbconvert_exporter": "python",
   "pygments_lexer": "ipython3",
   "version": "3.11.3"
  }
 },
 "nbformat": 4,
 "nbformat_minor": 2
}
