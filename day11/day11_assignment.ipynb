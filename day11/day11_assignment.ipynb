{
 "cells": [
  {
   "cell_type": "markdown",
   "metadata": {},
   "source": [
    "#### Exercises: Level 1"
   ]
  },
  {
   "cell_type": "code",
   "execution_count": 1,
   "metadata": {},
   "outputs": [
    {
     "name": "stdout",
     "output_type": "stream",
     "text": [
      "5\n"
     ]
    }
   ],
   "source": [
    "# Declare a function add_two_numbers.\n",
    "\n",
    "def add_two_numbers ():\n",
    "    num_one = 2\n",
    "    num_two = 3\n",
    "    total = num_one + num_two\n",
    "    print(total)\n",
    "add_two_numbers()\n",
    "    "
   ]
  },
  {
   "cell_type": "code",
   "execution_count": 8,
   "metadata": {},
   "outputs": [],
   "source": [
    "# Write a function that calculates area_of_circle.\n",
    "\n",
    "def area_of_circle (r):\n",
    "    PI = 3.14\n",
    "    r = 5\n",
    "    area = PI * r ** 2\n",
    "    return area"
   ]
  },
  {
   "cell_type": "code",
   "execution_count": 4,
   "metadata": {},
   "outputs": [
    {
     "name": "stdout",
     "output_type": "stream",
     "text": [
      "Sum: 10\n",
      "Error: All items must be numbers.\n"
     ]
    }
   ],
   "source": [
    "#Write a function called add_all_nums which takes arbitrary number of arguments and sums all the arguments. \n",
    "\n",
    "def add_all_nums(*args):\n",
    "    # Check if all items are number types\n",
    "    if all(isinstance(num, (int, float)) for num in args):\n",
    "        # Sum all the arguments\n",
    "        total = sum(args)\n",
    "        return total\n",
    "    else:\n",
    "        return \"Error: All items must be numbers.\"\n",
    "\n",
    "# Example usage:\n",
    "result = add_all_nums(1, 2, 3, 4)\n",
    "print(\"Sum:\", result)\n",
    "\n",
    "result_str = add_all_nums(1, 2, 'three', 4)\n",
    "print(result_str)\n"
   ]
  },
  {
   "cell_type": "code",
   "execution_count": 5,
   "metadata": {},
   "outputs": [
    {
     "name": "stdout",
     "output_type": "stream",
     "text": [
      "30°C is equal to 86.0°F\n"
     ]
    }
   ],
   "source": [
    "# Write a function which converts °C to °F, convert_celsius_to-fahrenheit.\n",
    "\n",
    "def convert_celsius_to_fahrenheit(celsius):\n",
    "    fahrenheit = (celsius * 9/5) + 32\n",
    "    return fahrenheit\n",
    "\n",
    "# Example usage:\n",
    "celsius_temperature = 30\n",
    "result = convert_celsius_to_fahrenheit(celsius_temperature)\n",
    "print(f\"{celsius_temperature}°C is equal to {result}°F\")\n"
   ]
  },
  {
   "cell_type": "code",
   "execution_count": 6,
   "metadata": {},
   "outputs": [],
   "source": [
    "# Write a function called check-season, it takes a month parameter and returns the season:\n",
    "\n",
    "def check_season(month):\n",
    "    month = month.lower()  # Convert the input to lowercase for case-insensitivity\n",
    "\n",
    "    if month in ['september', 'october', 'november']:\n",
    "        return 'Autumn'\n",
    "    elif month in ['december', 'january', 'february']:\n",
    "        return 'Winter'\n",
    "    elif month in ['march', 'april', 'may']:\n",
    "        return 'Spring'\n",
    "    elif month in ['june', 'july', 'august']:\n",
    "        return 'Summer'\n",
    "    else:\n",
    "        return 'Unknown Season'\n",
    "\n",
    "# Example usage:\n",
    "input_month = input(\"Enter a month: \")\n",
    "result = check_season(input_month)\n",
    "print(f\"The season for {input_month.capitalize()} is {result}\")\n"
   ]
  },
  {
   "cell_type": "code",
   "execution_count": null,
   "metadata": {},
   "outputs": [],
   "source": [
    "# Write a function called calculate_slope which return the slope of a linear equation\n",
    "\n",
    "def calculate_slope(m, b):\n",
    "    return m\n",
    "\n",
    "slope = calculate_slope(2, 3)\n",
    "print(f\"The slope of the linear equation is: {slope}\")\n"
   ]
  },
  {
   "cell_type": "code",
   "execution_count": null,
   "metadata": {},
   "outputs": [],
   "source": [
    "# Write a function which calculates solution set of a quadratic equation, solve_quadratic_eqn.\n",
    "\n",
    "import cmath  # Importing cmath for handling complex numbers\n",
    "\n",
    "def solve_quadratic_eqn(a, b, c):\n",
    "    # Calculate the discriminant\n",
    "    discriminant = cmath.sqrt(b**2 - 4*a*c)\n",
    "\n",
    "    # Calculate the solutions\n",
    "    root1 = (-b + discriminant) / (2*a)\n",
    "    root2 = (-b - discriminant) / (2*a)\n",
    "\n",
    "    return root1, root2\n",
    "\n",
    "# Example:\n",
    "a = 1\n",
    "b = -3\n",
    "c = 2\n",
    "\n",
    "solutions = solve_quadratic_eqn(a, b, c)\n",
    "print(f\"The solutions of the quadratic equation are: {solutions}\")\n"
   ]
  },
  {
   "cell_type": "code",
   "execution_count": null,
   "metadata": {},
   "outputs": [],
   "source": [
    "# Declare a function named print_list. It takes a list as a parameter and it prints out each element of the list.\n",
    "\n",
    "def print_list(my_list):\n",
    "    for element in my_list:\n",
    "        print(element)\n",
    "\n",
    "my_list = [1, 2, 3, 4, 5]\n",
    "print_list(my_list)\n"
   ]
  },
  {
   "cell_type": "code",
   "execution_count": null,
   "metadata": {},
   "outputs": [],
   "source": [
    "# Declare a function named reverse_list.\n",
    "\n",
    "def reverse_list(my_array):\n",
    "    reversed_array = []\n",
    "    for i in range(len(my_array) - 1, -1, -1):\n",
    "        reversed_array.append(my_array[i])\n",
    "    return reversed_array\n",
    "\n",
    "my_array = [1, 2, 3, 4, 5]\n",
    "result = reverse_list(my_array)\n",
    "print(result)\n"
   ]
  },
  {
   "cell_type": "code",
   "execution_count": null,
   "metadata": {},
   "outputs": [],
   "source": [
    "#Declare a function named capitalize_list_items. It takes a list as a parameter and it returns a capitalized list of items\n",
    "\n",
    "def capitalize_list_items(my_list):\n",
    "    capitalized_list = [item.capitalize() for item in my_list]\n",
    "    return capitalized_list\n",
    "\n",
    "my_list = ['apple', 'banana', 'cherry']\n",
    "result = capitalize_list_items(my_list)\n",
    "print(result)\n"
   ]
  },
  {
   "cell_type": "code",
   "execution_count": null,
   "metadata": {},
   "outputs": [],
   "source": [
    "# Declare a function named add_item. It takes a list and an item parameters. \n",
    "\n",
    "def add_item(my_list, new_item):\n",
    "    updated_list = my_list + [new_item]\n",
    "    return updated_list\n",
    "\n",
    "# Example usage:\n",
    "original_list = [1, 2, 3]\n",
    "new_element = 4\n",
    "result = add_item(original_list, new_element)\n",
    "print(result)\n"
   ]
  },
  {
   "cell_type": "code",
   "execution_count": null,
   "metadata": {},
   "outputs": [],
   "source": [
    "# Declare a function named remove_item. \n",
    "\n",
    "def remove_item(my_list, item_to_remove):\n",
    "    updated_list = [element for element in my_list if element != item_to_remove]\n",
    "    return updated_list\n",
    "\n",
    "# Example usage:\n",
    "original_list = [1, 2, 3, 2, 4]\n",
    "item_to_remove = 2\n",
    "result = remove_item(original_list, item_to_remove)\n",
    "print(result)\n",
    "\n",
    "\n"
   ]
  },
  {
   "cell_type": "code",
   "execution_count": null,
   "metadata": {},
   "outputs": [],
   "source": [
    "#Declare a function named sum_of_numbers. \n",
    "\n",
    "def sum_of_numbers(end_range):\n",
    "    return sum(range(1, end_range + 1))\n",
    "\n",
    "# Example:\n",
    "number_to_sum = 5\n",
    "result = sum_of_numbers(number_to_sum)\n",
    "print(result)\n"
   ]
  },
  {
   "cell_type": "code",
   "execution_count": 20,
   "metadata": {},
   "outputs": [
    {
     "name": "stdout",
     "output_type": "stream",
     "text": [
      "16\n"
     ]
    }
   ],
   "source": [
    "# Declare a function named sum_of_odds.\n",
    "\n",
    "def sum_of_odds(end_range):\n",
    "    return sum(i for i in range(1, end_range + 1) if i % 2 != 0)\n",
    "\n",
    "# Example usage:\n",
    "number_to_sum = 7\n",
    "result = sum_of_odds(number_to_sum)\n",
    "print(result)\n",
    "\n",
    "\n"
   ]
  },
  {
   "cell_type": "code",
   "execution_count": 16,
   "metadata": {},
   "outputs": [
    {
     "name": "stdout",
     "output_type": "stream",
     "text": [
      "20\n"
     ]
    }
   ],
   "source": [
    "# Declare a function named sum_of_even.\n",
    "\n",
    "def sum_of_even(end_range):\n",
    "    return sum(i for i in range(1, end_range + 1) if i % 2 == 0)\n",
    "\n",
    "#  usage:\n",
    "number_to_sum = 8\n",
    "result = sum_of_even(number_to_sum)\n",
    "print(result)\n",
    "\n",
    "\n"
   ]
  },
  {
   "cell_type": "markdown",
   "metadata": {},
   "source": [
    "#### Exercises: Level 2"
   ]
  },
  {
   "cell_type": "code",
   "execution_count": 21,
   "metadata": {},
   "outputs": [
    {
     "name": "stdout",
     "output_type": "stream",
     "text": [
      "The number of evens are: 4\n",
      "The number of odds are: 5\n"
     ]
    }
   ],
   "source": [
    "# Declare a function named evens_and_odds\n",
    "\n",
    "def evens_and_odds(number):\n",
    "    # Convert the number to a string to iterate through its digits\n",
    "    str_number = str(number)\n",
    "    \n",
    "    # Counters for even and odd digits\n",
    "    even_count = sum(int(digit) % 2 == 0 for digit in str_number)\n",
    "    odd_count = len(str_number) - even_count\n",
    "\n",
    "    return even_count, odd_count\n",
    "\n",
    "# Example usage:\n",
    "positive_integer = 123456789\n",
    "even_count, odd_count = evens_and_odds(positive_integer)\n",
    "print(f\"The number of evens are: {even_count}\")\n",
    "print(f\"The number of odds are: {odd_count}\")\n"
   ]
  },
  {
   "cell_type": "code",
   "execution_count": 27,
   "metadata": {},
   "outputs": [
    {
     "name": "stdout",
     "output_type": "stream",
     "text": [
      "The factorial of 12 is: 479001600\n"
     ]
    }
   ],
   "source": [
    "# Call your function factorial, it takes a whole number as a parameter and it return a factorial of the number\n",
    "\n",
    "def factorial(number):\n",
    "    if number == 0 or number == 1:\n",
    "        return 1\n",
    "    \n",
    "    # Recursive case: n! = n * (n-1)!\n",
    "    return number * factorial(number - 1)\n",
    "\n",
    "# Example:\n",
    "whole_number = 12\n",
    "result = factorial(whole_number)\n",
    "print(f\"The factorial of {whole_number} is: {result}\")\n",
    "\n"
   ]
  },
  {
   "cell_type": "code",
   "execution_count": 11,
   "metadata": {},
   "outputs": [
    {
     "name": "stdout",
     "output_type": "stream",
     "text": [
      "Is the list empty? True\n",
      "Is the string empty? False\n"
     ]
    }
   ],
   "source": [
    "# Call your function is_empty, it takes a parameter and it checks if it is empty or not\n",
    "\n",
    "def is_empty(data):\n",
    "    # Check if the data is empty\n",
    "    return not bool(data)\n",
    "\n",
    "# Example:\n",
    "list1 = []\n",
    "result = is_empty(list1)\n",
    "print(f\"Is the list empty? {result}\")\n",
    "\n",
    "string1 = \"Hello, World!\"\n",
    "result = is_empty(string1)\n",
    "print(f\"Is the string empty? {result}\")\n"
   ]
  },
  {
   "cell_type": "code",
   "execution_count": 28,
   "metadata": {},
   "outputs": [
    {
     "name": "stdout",
     "output_type": "stream",
     "text": [
      "Mean: 5.0\n",
      "Median: 5\n",
      "Mode: 4\n",
      "Range: 8\n",
      "Variance: 7.5\n",
      "Standard Deviation: 2.7386127875258306\n"
     ]
    }
   ],
   "source": [
    "# Write different functions which take lists.\n",
    "\n",
    "import statistics\n",
    "\n",
    "def calculate_mean(data):\n",
    "    # Calculate the mean\n",
    "    return sum(data) / len(data) if len(data) > 0 else None\n",
    "\n",
    "def calculate_median(data):\n",
    "    # Calculate the median\n",
    "    return statistics.median(data) if len(data) > 0 else None\n",
    "\n",
    "def calculate_mode(data):\n",
    "    # Calculate the mode\n",
    "    return statistics.mode(data) if len(data) > 0 else None\n",
    "\n",
    "def calculate_range(data):\n",
    "    # Calculate the range\n",
    "    return max(data) - min(data) if len(data) > 0 else None\n",
    "\n",
    "def calculate_variance(data):\n",
    "    # Calculate the variance\n",
    "    return statistics.variance(data) if len(data) > 0 else None\n",
    "\n",
    "def calculate_std(data):\n",
    "    # Calculate the standard deviation\n",
    "    return statistics.stdev(data) if len(data) > 0 else None\n",
    "\n",
    "# Example usage:\n",
    "data_list = [4, 7, 2, 9, 5, 1, 8, 6, 3]\n",
    "print(f\"Mean: {calculate_mean(data_list)}\")\n",
    "print(f\"Median: {calculate_median(data_list)}\")\n",
    "print(f\"Mode: {calculate_mode(data_list)}\")\n",
    "print(f\"Range: {calculate_range(data_list)}\")\n",
    "print(f\"Variance: {calculate_variance(data_list)}\")\n",
    "print(f\"Standard Deviation: {calculate_std(data_list)}\")\n"
   ]
  },
  {
   "cell_type": "markdown",
   "metadata": {},
   "source": [
    "### Exercises: Level 3"
   ]
  },
  {
   "cell_type": "code",
   "execution_count": 32,
   "metadata": {},
   "outputs": [
    {
     "name": "stdout",
     "output_type": "stream",
     "text": [
      "21 is not a prime number.\n"
     ]
    }
   ],
   "source": [
    "# Write a function called is_prime, which checks if a number is prime\n",
    "\n",
    "def is_prime(num):\n",
    "    \"\"\"Check if a number is prime.\"\"\"\n",
    "    if num < 2:\n",
    "        return False  # Numbers less than 2 are not prime\n",
    "\n",
    "    for i in range(2, int(num**0.5) + 1):\n",
    "        if num % i == 0:\n",
    "            return False  # Found a divisor, not a prime number\n",
    "\n",
    "    return True  # If no divisors found, it's a prime number\n",
    "\n",
    "# Example:\n",
    "number = 21\n",
    "if is_prime(number):\n",
    "    print(f\"{number} is a prime number.\")\n",
    "else:\n",
    "    print(f\"{number} is not a prime number.\")\n"
   ]
  },
  {
   "cell_type": "code",
   "execution_count": 34,
   "metadata": {},
   "outputs": [
    {
     "name": "stdout",
     "output_type": "stream",
     "text": [
      "There are duplicate items in the list.\n"
     ]
    }
   ],
   "source": [
    "# Write a functions which checks if all items are unique in the list.\n",
    "\n",
    "def are_all_unique(lst):\n",
    "    \"\"\"Check if all items in a list are unique.\"\"\"\n",
    "    return len(lst) == len(set(lst))\n",
    "\n",
    "# Example usage:\n",
    "sample_list = [1, 2, 3, 4, 5, 1, 2, 2, 3, 5]\n",
    "if are_all_unique(sample_list):\n",
    "    print(\"All items in the list are unique.\")\n",
    "else:\n",
    "    print(\"There are duplicate items in the list.\")\n"
   ]
  },
  {
   "cell_type": "code",
   "execution_count": 37,
   "metadata": {},
   "outputs": [
    {
     "name": "stdout",
     "output_type": "stream",
     "text": [
      "The items in the list have different data types.\n"
     ]
    }
   ],
   "source": [
    "# Write a function which checks if all the items of the list are of the same data type.\n",
    "\n",
    "def are_all_same_data_type(lst):\n",
    "    \"\"\"Check if all items in a list are of the same data type.\"\"\"\n",
    "    return all(isinstance(item, type(lst[0])) for item in lst)\n",
    "\n",
    "# Example usage:\n",
    "sample_list = [1, 2, 3, 4, 5, 'sets', 'jupy']\n",
    "if are_all_same_data_type(sample_list):\n",
    "    print(\"All items in the list are of the same data type.\")\n",
    "else:\n",
    "    print(\"The items in the list have different data types.\")\n"
   ]
  },
  {
   "cell_type": "code",
   "execution_count": 40,
   "metadata": {},
   "outputs": [
    {
     "name": "stdout",
     "output_type": "stream",
     "text": [
      "my_variable is a valid Python variable.\n"
     ]
    }
   ],
   "source": [
    "# Write a function which check if provided variable is a valid python variable\n",
    "\n",
    "import re\n",
    "\n",
    "def is_valid_variable(variable_name):\n",
    "   \n",
    "    # Regular expression pattern for a valid Python variable name\n",
    "    pattern = re.compile(r'^[a-zA-Z_]\\w*$')\n",
    "\n",
    "    return bool(re.match(pattern, variable_name)) and variable_name not in dir(__builtins__)\n",
    "\n",
    "# Example usage:\n",
    "variable_to_check = \"my_variable\"\n",
    "if is_valid_variable(variable_to_check):\n",
    "    print(f\"{variable_to_check} is a valid Python variable.\")\n",
    "else:\n",
    "    print(f\"{variable_to_check} is not a valid Python variable.\")\n"
   ]
  }
 ],
 "metadata": {
  "kernelspec": {
   "display_name": "Python 3",
   "language": "python",
   "name": "python3"
  },
  "language_info": {
   "codemirror_mode": {
    "name": "ipython",
    "version": 3
   },
   "file_extension": ".py",
   "mimetype": "text/x-python",
   "name": "python",
   "nbconvert_exporter": "python",
   "pygments_lexer": "ipython3",
   "version": "3.11.5"
  }
 },
 "nbformat": 4,
 "nbformat_minor": 2
}
