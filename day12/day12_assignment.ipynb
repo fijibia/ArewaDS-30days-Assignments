{
 "cells": [
  {
   "cell_type": "markdown",
   "metadata": {},
   "source": [
    "#### Exercises: Level 1"
   ]
  },
  {
   "cell_type": "code",
   "execution_count": 20,
   "metadata": {},
   "outputs": [
    {
     "name": "stdout",
     "output_type": "stream",
     "text": [
      "Random User ID: JVEB5G\n"
     ]
    }
   ],
   "source": [
    "# Writ a function which generates a six digit/character random_user_id\n",
    "\n",
    "import random\n",
    "import string\n",
    "\n",
    "def generate_random_user_id():\n",
    "    \n",
    "    # Generate a random 6-character string consisting of digits and uppercase letters\n",
    "    user_id = ''.join(random.choices(string.digits + string.ascii_uppercase, k=6))\n",
    "    return user_id\n",
    "\n",
    "# Example:\n",
    "random_user_id = generate_random_user_id()\n",
    "print(\"Random User ID:\", random_user_id)"
   ]
  },
  {
   "cell_type": "code",
   "execution_count": 21,
   "metadata": {},
   "outputs": [
    {
     "name": "stdout",
     "output_type": "stream",
     "text": [
      "Generated User IDs: ['ME6WO34', '6RH3NTB', '9L6WH16', 'SG8Z3KM', 'LGCVAEE', 'VLBAKG1', '31OB49K', 'P08A8N6', 'THGTX3J', '19F7NWV']\n"
     ]
    }
   ],
   "source": [
    "# Declare a function named user_id_gen_by_user.\n",
    "\n",
    "import random\n",
    "import string\n",
    "\n",
    "def user_id_gen_by_user():\n",
    "   \n",
    "    try:\n",
    "        # Get user inputs for the number of characters and number of IDs\n",
    "        num_characters = int(input(\"Enter the number of characters for each user ID: \"))\n",
    "        num_ids = int(input(\"Enter the number of IDs to generate: \"))\n",
    "\n",
    "        # Validate inputs\n",
    "        if num_characters <= 0 or num_ids <= 0:\n",
    "            raise ValueError(\"Number of characters and number of IDs should be greater than zero.\")\n",
    "\n",
    "        # Generate user IDs\n",
    "        user_ids = [''.join(random.choices(string.digits + string.ascii_uppercase, k=num_characters)) for _ in range(num_ids)]\n",
    "        \n",
    "        return user_ids\n",
    "    except ValueError as e:\n",
    "        print(f\"Error: {e}\")\n",
    "        return []\n",
    "\n",
    "# Example usage:\n",
    "generated_user_ids = user_id_gen_by_user()\n",
    "print(\"Generated User IDs:\", generated_user_ids)\n"
   ]
  },
  {
   "cell_type": "code",
   "execution_count": 26,
   "metadata": {},
   "outputs": [
    {
     "name": "stdout",
     "output_type": "stream",
     "text": [
      "Generated RGB Color: (216, 16, 133)\n"
     ]
    }
   ],
   "source": [
    "# Write a function named rgb_color_gen. It will generate rgb colors (3 values ranging from 0 to 255 each).\n",
    "\n",
    "import random\n",
    "\n",
    "def rgb_color_gen():\n",
    "    \n",
    "    red = random.randint(0, 255)\n",
    "    green = random.randint(0, 255)\n",
    "    blue = random.randint(0, 255)\n",
    "    \n",
    "    return red, green, blue\n",
    "\n",
    "# Example usage:\n",
    "generated_color = rgb_color_gen()\n",
    "print(\"Generated RGB Color:\", generated_color)\n"
   ]
  },
  {
   "cell_type": "markdown",
   "metadata": {},
   "source": [
    "#### Exercises: Level 2"
   ]
  },
  {
   "cell_type": "code",
   "execution_count": 29,
   "metadata": {},
   "outputs": [
    {
     "name": "stdout",
     "output_type": "stream",
     "text": [
      "Generated Hexadecimal Colors: ['#6f8ea3', '#6e726a', '#9755f9', '#33e573', '#9f5530']\n"
     ]
    }
   ],
   "source": [
    "# Write a function list_of_hexa_colors which returns any number of hexadecimal colors in an array\n",
    "\n",
    "import random\n",
    "\n",
    "def list_of_hexa_colors(num_colors):\n",
    "    \n",
    "    colors = []\n",
    "\n",
    "    for _ in range(num_colors):\n",
    "        hex_color = \"#{:06x}\".format(random.randint(0, 0xFFFFFF))\n",
    "        colors.append(hex_color)\n",
    "\n",
    "    return colors\n",
    "\n",
    "# Example usage:\n",
    "number_of_colors = 5\n",
    "generated_colors = list_of_hexa_colors(number_of_colors)\n",
    "print(\"Generated Hexadecimal Colors:\", generated_colors)\n"
   ]
  },
  {
   "cell_type": "code",
   "execution_count": 31,
   "metadata": {},
   "outputs": [
    {
     "name": "stdout",
     "output_type": "stream",
     "text": [
      "Generated RGB Colors: [(39, 171, 223), (157, 174, 243), (243, 42, 58), (239, 195, 81), (194, 40, 188)]\n"
     ]
    }
   ],
   "source": [
    "# Write a function list_of_rgb_colors which returns any number of RGB colors in an array.\n",
    "\n",
    "import random\n",
    "\n",
    "def list_of_rgb_colors(num_colors):\n",
    "    \n",
    "    colors = []\n",
    "\n",
    "    for _ in range(num_colors):\n",
    "        rgb_color = (random.randint(0, 255), random.randint(0, 255), random.randint(0, 255))\n",
    "        colors.append(rgb_color)\n",
    "\n",
    "    return colors\n",
    "\n",
    "# Example usage:\n",
    "number_of_colors = 5\n",
    "generated_colors = list_of_rgb_colors(number_of_colors)\n",
    "print(\"Generated RGB Colors:\", generated_colors)\n"
   ]
  },
  {
   "cell_type": "code",
   "execution_count": 32,
   "metadata": {},
   "outputs": [
    {
     "name": "stdout",
     "output_type": "stream",
     "text": [
      "Generated Hex Colors: ['#94c3bf', '#fd958d', '#177c9a', '#1ec35b', '#f519c7']\n",
      "Generated RGB Colors: [(68, 98, 161), (37, 129, 6), (190, 4, 51), (135, 239, 131), (112, 51, 248)]\n"
     ]
    }
   ],
   "source": [
    "# Write a function generate_colors which can generate any number of hexa or rgb colors.\n",
    "\n",
    "import random\n",
    "\n",
    "def generate_colors(num_colors, color_mode='hexa'):\n",
    "    \n",
    "    colors = []\n",
    "\n",
    "    for _ in range(num_colors):\n",
    "        if color_mode == 'hexa':\n",
    "            hex_color = \"#{:06x}\".format(random.randint(0, 0xFFFFFF))\n",
    "            colors.append(hex_color)\n",
    "        elif color_mode == 'rgb':\n",
    "            rgb_color = (random.randint(0, 255), random.randint(0, 255), random.randint(0, 255))\n",
    "            colors.append(rgb_color)\n",
    "        else:\n",
    "            raise ValueError(\"Invalid color mode. Choose 'hexa' or 'rgb'.\")\n",
    "\n",
    "    return colors\n",
    "\n",
    "# Example :\n",
    "number_of_colors = 5\n",
    "generated_hex_colors = generate_colors(number_of_colors, color_mode='hexa')\n",
    "generated_rgb_colors = generate_colors(number_of_colors, color_mode='rgb')\n",
    "\n",
    "print(\"Generated Hex Colors:\", generated_hex_colors)\n",
    "print(\"Generated RGB Colors:\", generated_rgb_colors)\n"
   ]
  },
  {
   "cell_type": "markdown",
   "metadata": {},
   "source": [
    "#### Exercises: Level 3"
   ]
  },
  {
   "cell_type": "code",
   "execution_count": 35,
   "metadata": {},
   "outputs": [
    {
     "name": "stdout",
     "output_type": "stream",
     "text": [
      "Original List: [1, 2, 3, 4, 5, 6, 7]\n",
      "Shuffled List: [3, 5, 7, 4, 2, 6, 1]\n"
     ]
    }
   ],
   "source": [
    "# Call your function shuffle_list, it takes a list as a parameter and it returns a shuffled list\n",
    "\n",
    "import random\n",
    "\n",
    "def shuffle_list(input_list):\n",
    "    \n",
    "    shuffled_list = input_list.copy()\n",
    "    random.shuffle(shuffled_list)\n",
    "    return shuffled_list\n",
    "\n",
    "# Example:\n",
    "original_list = [1, 2, 3, 4, 5, 6, 7]\n",
    "shuffled_result = shuffle_list(original_list)\n",
    "\n",
    "print(\"Original List:\", original_list)\n",
    "print(\"Shuffled List:\", shuffled_result)\n"
   ]
  },
  {
   "cell_type": "code",
   "execution_count": 40,
   "metadata": {},
   "outputs": [
    {
     "name": "stdout",
     "output_type": "stream",
     "text": [
      "Unique Random Numbers: [3, 9, 7, 6, 4, 5, 8]\n"
     ]
    }
   ],
   "source": [
    "# Write a function which returns an array of seven random numbers in a range of 0-9. All the numbers must be unique.\n",
    "\n",
    "import random\n",
    "\n",
    "def generate_unique_random_numbers():\n",
    "    \n",
    "    unique_numbers = random.sample(range(10), 7)\n",
    "    return unique_numbers\n",
    "\n",
    "# Example usage:\n",
    "random_numbers = generate_unique_random_numbers()\n",
    "print(\"Unique Random Numbers:\", random_numbers)\n"
   ]
  }
 ],
 "metadata": {
  "kernelspec": {
   "display_name": "Python 3",
   "language": "python",
   "name": "python3"
  },
  "language_info": {
   "codemirror_mode": {
    "name": "ipython",
    "version": 3
   },
   "file_extension": ".py",
   "mimetype": "text/x-python",
   "name": "python",
   "nbconvert_exporter": "python",
   "pygments_lexer": "ipython3",
   "version": "3.11.5"
  }
 },
 "nbformat": 4,
 "nbformat_minor": 2
}
