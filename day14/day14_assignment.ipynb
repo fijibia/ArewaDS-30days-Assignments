{
 "cells": [
  {
   "cell_type": "markdown",
   "metadata": {},
   "source": [
    "#### Exercises: Level 1"
   ]
  },
  {
   "cell_type": "code",
   "execution_count": null,
   "metadata": {},
   "outputs": [],
   "source": [
    "# Explain the difference between map, filter, and reduce.\n",
    "\n",
    "\"\"\"\n",
    "Map, Filter, and Reduce are higher-order functions in Python that operate on iterable objects\n",
    "(e.g., lists, tuples) and are used to transform or manipulate data. Here's a brief explanation\n",
    " of the differences between them:\n",
    "\n",
    "map:\n",
    "Purpose: Applies a given function to all items in an iterable and returns a new iterable with\n",
    "the results.\n",
    "Syntax:\n",
    "map(function, iterable)\n",
    "\n",
    "Use Case: \n",
    "Use map when you want to apply a function to each item in an iterable and get a new \n",
    "iterable with the results.\n",
    "\n",
    "filter:\n",
    "Purpose: Filters elements from an iterable based on a given function's condition and returns \n",
    "a new iterable with the elements that satisfy the condition.\n",
    "Syntax:\n",
    "filter(function, iterable)\n",
    "\n",
    "Use Case: Use filter when you want to selectively include elements from an iterable based on \n",
    "a specified condition.\n",
    "\n",
    "reduce:\n",
    "Purpose: Applies a rolling computation to sequential pairs of elements in an iterable, \n",
    "reducing it to a single accumulated result.\n",
    "\n",
    "Syntax:\n",
    "from functools import reduce\n",
    "reduce(function, iterable, initializer)\n",
    "\n",
    "Use Case: Use reduce when you want to successively combine elements in an iterable to produce \n",
    "a single result, such as finding the sum or product.\n",
    "\"\"\""
   ]
  },
  {
   "cell_type": "code",
   "execution_count": null,
   "metadata": {},
   "outputs": [],
   "source": [
    "# Explain the difference between higher order function, closure and decorator\n",
    "\n",
    "\"\"\"\n",
    "Higher-Order Function:\n",
    "Definition: A higher-order function is a function that takes one or more functions as \n",
    "arguments or returns a function as its result.\n",
    "Purpose: It allows functions to be more flexible and powerful by treating them as first-class\n",
    "citizens. Functions can be passed as arguments, returned from other functions, and assigned \n",
    "to variables.\n",
    "\n",
    "Use Case: Higher-order functions are commonly used for abstraction, composition, and code \n",
    "reuse.\n",
    "\n",
    "Closure:\n",
    "Definition: A closure is a function object that has access to variables in its lexical scope,\n",
    "even when the function is called outside that scope.\n",
    "Purpose: It allows a function to remember the environment in which it was created, preserving\n",
    "the values of local variables.\n",
    "\n",
    "Use Case: Closures are often used for data encapsulation, creating private variables, and \n",
    "implementing decorators.\n",
    "\n",
    "Decorator:\n",
    "Definition: A decorator is a higher-order function that takes a function and extends or \n",
    "modifies its behavior without changing its code.\n",
    "Purpose: It provides a clean and reusable way to enhance the functionality of functions or \n",
    "methods.\n",
    "\n",
    "Use Case: Decorators are commonly used for code organization, logging, authentication, and \n",
    "other cross-cutting concerns.\n",
    "\"\"\""
   ]
  },
  {
   "cell_type": "code",
   "execution_count": null,
   "metadata": {},
   "outputs": [],
   "source": [
    "# Define a call function before map, filter or reduce,\n",
    "\n",
    "\"\"\"\n",
    "Call\n",
    "In Python, the call function is not a built-in function or a standard part of the language \n",
    "like map, filter, or reduce. Instead, the term \"call\" typically refers to the act of invoking\n",
    "or executing a function. If you want to define a function that can be called before using \n",
    "map, filter, or reduce, you can simply create a regular Python function.\n",
    "\n",
    "Here's a basic example:\n",
    "def my_function(x):\n",
    "    return x * 2\n",
    "\n",
    "# Using map with the defined function\n",
    "numbers = [1, 2, 3, 4]\n",
    "result_map = map(my_function, numbers)\n",
    "print(list(result_map))  # Output: [2, 4, 6, 8]\n",
    "\n",
    "In this example, my_function is defined, and then it is used with the map function to apply \n",
    "the function to each element in the numbers list.\n",
    "\n",
    "If you had a specific use case or scenario in mind when mentioning a \"call function before \n",
    "map, filter, or reduce,\" please provide more details, and I'll be happy to offer more tailored\n",
    "guidance.\n",
    "\"\"\""
   ]
  },
  {
   "cell_type": "code",
   "execution_count": null,
   "metadata": {},
   "outputs": [],
   "source": [
    "# Use for loop to print each country in the countries list.\n",
    "\n",
    "countries = ['Estonia', 'Finland', 'Sweden', 'Denmark', 'Norway', 'Iceland']\n",
    "\n",
    "for country in countries:\n",
    "    print(country['name'])"
   ]
  },
  {
   "cell_type": "code",
   "execution_count": 4,
   "metadata": {},
   "outputs": [
    {
     "name": "stdout",
     "output_type": "stream",
     "text": [
      "Asabeneh Yetayeh\n",
      "David Smith\n",
      "Donald Trump\n",
      "Bill Gates\n"
     ]
    }
   ],
   "source": [
    "# Use for to print each name in the names list.\n",
    "\n",
    "names = ['Asabeneh Yetayeh', 'David Smith', 'Donald Trump', 'Bill Gates']\n",
    "\n",
    "# Using a for loop to print each name\n",
    "for name in names:\n",
    "    print(name)"
   ]
  },
  {
   "cell_type": "code",
   "execution_count": 3,
   "metadata": {},
   "outputs": [
    {
     "name": "stdout",
     "output_type": "stream",
     "text": [
      "1\n",
      "2\n",
      "3\n",
      "4\n",
      "5\n",
      "6\n",
      "7\n",
      "8\n",
      "9\n",
      "10\n"
     ]
    }
   ],
   "source": [
    "# Use for to print each number in the numbers list.\n",
    "\n",
    "numbers = [1, 2, 3, 4, 5, 6, 7, 8, 9, 10]\n",
    "\n",
    "# Using a for loop to print each number\n",
    "for number in numbers:\n",
    "    print(number)"
   ]
  },
  {
   "cell_type": "markdown",
   "metadata": {},
   "source": [
    "#### Exercises: Level 2"
   ]
  },
  {
   "cell_type": "code",
   "execution_count": 5,
   "metadata": {},
   "outputs": [
    {
     "name": "stdout",
     "output_type": "stream",
     "text": [
      "['ESTONIA', 'FINLAND', 'SWEDEN', 'DENMARK', 'NORWAY', 'ICELAND']\n"
     ]
    }
   ],
   "source": [
    "countries = ['Estonia', 'Finland', 'Sweden', 'Denmark', 'Norway', 'Iceland']\n",
    "\n",
    "# Use map to create a new list by changing each country to uppercase in the countries list\n",
    "def change_to_upper(countries):\n",
    "    return countries.upper()\n",
    "\n",
    "contries_upper_cased = map(change_to_upper, countries)\n",
    "print(list(contries_upper_cased))"
   ]
  },
  {
   "cell_type": "code",
   "execution_count": 6,
   "metadata": {},
   "outputs": [
    {
     "name": "stdout",
     "output_type": "stream",
     "text": [
      "[1, 4, 9, 16, 25, 36, 49, 64, 81, 100]\n"
     ]
    }
   ],
   "source": [
    "numbers = [1, 2, 3, 4, 5, 6, 7, 8, 9, 10]\n",
    "\n",
    "# Use map to create a new list by changing each number to its square in the numbers list\n",
    "\n",
    "def square(x):\n",
    "    return x ** 2\n",
    "numbers_squared = map(square, numbers)\n",
    "print(list(numbers_squared)) \n"
   ]
  },
  {
   "cell_type": "code",
   "execution_count": 7,
   "metadata": {},
   "outputs": [
    {
     "name": "stdout",
     "output_type": "stream",
     "text": [
      "['ASABENEH', 'LIDIYA', 'ERMIAS', 'ABRAHAM']\n"
     ]
    }
   ],
   "source": [
    "names = ['Asabeneh', 'Lidiya', 'Ermias', 'Abraham']\n",
    "\n",
    "# Use map to change each name to uppercase in the names list\n",
    "\n",
    "def change_to_upper(name):\n",
    "    return name.upper()\n",
    "\n",
    "names_upper_cased = map(change_to_upper, names)\n",
    "print(list(names_upper_cased)) \n"
   ]
  },
  {
   "cell_type": "code",
   "execution_count": 10,
   "metadata": {},
   "outputs": [
    {
     "name": "stdout",
     "output_type": "stream",
     "text": [
      "['Finland', 'Iceland']\n"
     ]
    }
   ],
   "source": [
    "countries = ['Estonia', 'Finland', 'Sweden', 'Denmark', 'Norway', 'Iceland']\n",
    "\n",
    "# Use filter to filter out countries containing 'land'.\n",
    "\n",
    "def is_land_in_countries(country):\n",
    "    if 'land' in country:\n",
    "        return True\n",
    "    return False\n",
    "\n",
    "countries_with_land = filter(is_land_in_countries, countries)\n",
    "print(list(countries_with_land))"
   ]
  },
  {
   "cell_type": "code",
   "execution_count": 11,
   "metadata": {},
   "outputs": [
    {
     "name": "stdout",
     "output_type": "stream",
     "text": [
      "['Sweden', 'Norway']\n"
     ]
    }
   ],
   "source": [
    "countries = ['Estonia', 'Finland', 'Sweden', 'Denmark', 'Norway', 'Iceland']\n",
    "#Use filter to filter out countries having exactly six characters.\n",
    "\n",
    "def is_country_6xter(country):\n",
    "    if len(country) == 6:\n",
    "        return True\n",
    "    return False\n",
    "\n",
    "countries_with_6xter = filter(is_country_6xter, countries)\n",
    "print(list(countries_with_6xter))"
   ]
  },
  {
   "cell_type": "code",
   "execution_count": 13,
   "metadata": {},
   "outputs": [
    {
     "name": "stdout",
     "output_type": "stream",
     "text": [
      "['Estonia', 'Finland', 'Sweden', 'Denmark', 'Norway', 'Iceland']\n"
     ]
    }
   ],
   "source": [
    "countries = ['Estonia', 'Finland', 'Sweden', 'Denmark', 'Norway', 'Iceland']\n",
    "# Use filter to filter out countries containing six letters and more in the country list.\n",
    "\n",
    "def is_country_6xter(country):\n",
    "    if len(country) >= 6:\n",
    "        return True\n",
    "    return False\n",
    "\n",
    "countries_with_6xter = filter(is_country_6xter, countries)\n",
    "print(list(countries_with_6xter))"
   ]
  },
  {
   "cell_type": "code",
   "execution_count": 14,
   "metadata": {},
   "outputs": [
    {
     "name": "stdout",
     "output_type": "stream",
     "text": [
      "['Finland', 'Sweden', 'Denmark', 'Norway', 'Iceland']\n"
     ]
    }
   ],
   "source": [
    "countries = ['Estonia', 'Finland', 'Sweden', 'Denmark', 'Norway', 'Iceland']\n",
    "\n",
    "# Use filter to filter out countries starting with an 'E'\n",
    "\n",
    "filtered_countries = filter(lambda country: not country.startswith('E'), countries)\n",
    "\n",
    "filtered_countries_list = list(filtered_countries)\n",
    "\n",
    "print(filtered_countries_list)\n",
    "\n"
   ]
  },
  {
   "cell_type": "code",
   "execution_count": 20,
   "metadata": {},
   "outputs": [
    {
     "name": "stdout",
     "output_type": "stream",
     "text": [
      "Requirement already satisfied: pipe in c:\\users\\acer user\\appdata\\local\\programs\\python\\python311\\lib\\site-packages (2.1)\n",
      "Note: you may need to restart the kernel to use updated packages.\n"
     ]
    },
    {
     "name": "stderr",
     "output_type": "stream",
     "text": [
      "\n",
      "[notice] A new release of pip is available: 23.1.2 -> 23.3.2\n",
      "[notice] To update, run: python.exe -m pip install --upgrade pip\n"
     ]
    }
   ],
   "source": [
    "pip install pipe"
   ]
  },
  {
   "cell_type": "code",
   "execution_count": null,
   "metadata": {},
   "outputs": [],
   "source": [
    "from functools import reduce\n",
    "\n",
    "# Example list\n",
    "numbers = [1, 2, 3, 4, 5]\n",
    "\n",
    "# Chain map, filter, and reduce operations\n",
    "result = (\n",
    "    map(lambda x: x * 2, numbers)\n",
    "    | filter(lambda x: x % 2 == 0)\n",
    "    | reduce(lambda x, y: x + y)\n",
    ")\n",
    "\n",
    "print(result)\n"
   ]
  },
  {
   "cell_type": "code",
   "execution_count": 21,
   "metadata": {},
   "outputs": [
    {
     "name": "stdout",
     "output_type": "stream",
     "text": [
      "['apple', 'banana', 'orange', 'grape']\n"
     ]
    }
   ],
   "source": [
    "# Declare a function called get_string_lists which takes a list as a parameter and then returns a list containing only string items.\n",
    "\n",
    "def get_string_lists(input_list):\n",
    "    \n",
    "    return [item for item in input_list if isinstance(item, str)]\n",
    "\n",
    "# Example usage:\n",
    "mixed_list = [1, 'apple', 3.14, 'banana', True, 'orange', 'grape']\n",
    "string_list = get_string_lists(mixed_list)\n",
    "\n",
    "print(string_list)\n"
   ]
  },
  {
   "cell_type": "code",
   "execution_count": 11,
   "metadata": {},
   "outputs": [],
   "source": [
    "from functools import reduce"
   ]
  },
  {
   "cell_type": "code",
   "execution_count": 15,
   "metadata": {},
   "outputs": [
    {
     "name": "stdout",
     "output_type": "stream",
     "text": [
      "55\n"
     ]
    }
   ],
   "source": [
    "numbers = [1, 2, 3, 4, 5, 6, 7, 8, 9, 10]\n",
    "# Use reduce to sum all the numbers in the numbers list.\n",
    "\n",
    "def add_two_nums(x, y):\n",
    "    return (x) + (y)\n",
    "\n",
    "sum_result = reduce (lambda x, y: x + y, numbers)\n",
    "#sum_result = reduce(add_two_nums, numbers)\n",
    "print(sum_result) \n",
    "\n"
   ]
  },
  {
   "cell_type": "code",
   "execution_count": 19,
   "metadata": {},
   "outputs": [
    {
     "name": "stdout",
     "output_type": "stream",
     "text": [
      "Estonia, Finland, Sweden, Denmark, Norway, Iceland\n",
      "Estonia, Finland, Sweden, Denmark, Norway, Iceland, are north European countries.\n"
     ]
    }
   ],
   "source": [
    "# Use reduce to concatenate all the countries and to produce this sentence\n",
    "\n",
    "countries = ['Estonia', 'Finland', 'Sweden', 'Denmark', 'Norway', 'Iceland']\n",
    "\n",
    "# Use reduce to concatenate all the countries\n",
    "sentence = reduce(lambda x, y: f\"{x}, {y}\", countries)\n",
    "print(sentence)\n",
    "\n",
    "# Adding the final part of the sentence\n",
    "final_sentence = f\"{sentence}, are north European countries.\"\n",
    "\n",
    "print(final_sentence)\n",
    "\n"
   ]
  },
  {
   "cell_type": "code",
   "execution_count": 20,
   "metadata": {},
   "outputs": [
    {
     "name": "stdout",
     "output_type": "stream",
     "text": [
      "Land: ['Finland', 'Iceland', 'Switzerland', 'Thailand', 'Poland']\n",
      "Ia: ['India']\n",
      "Island: []\n",
      "Stan: ['Pakistan']\n"
     ]
    }
   ],
   "source": [
    "# Declare a function called categorize_countries that returns a list of countries with some common pattern \n",
    "\n",
    "def categorize_countries(countries):\n",
    "    \n",
    "    categorized = {\n",
    "        'land': [],\n",
    "        'ia': [],\n",
    "        'island': [],\n",
    "        'stan': []\n",
    "    }\n",
    "\n",
    "    for country in countries:\n",
    "        # Lowercasing for case-insensitive matching\n",
    "        lower_country = country.lower()\n",
    "\n",
    "        if 'land' in lower_country:\n",
    "            categorized['land'].append(country)\n",
    "        if lower_country.endswith('ia'):\n",
    "            categorized['ia'].append(country)\n",
    "        if 'island' in lower_country:\n",
    "            categorized['island'].append(country)\n",
    "        if lower_country.endswith('stan'):\n",
    "            categorized['stan'].append(country)\n",
    "\n",
    "    return categorized\n",
    "\n",
    "# Example usage:\n",
    "countries = ['Finland', 'Iceland', 'Switzerland', 'India', 'Pakistan', 'Thailand', 'Poland']\n",
    "result = categorize_countries(countries)\n",
    "\n",
    "# Print the categorized countries\n",
    "for category, country_list in result.items():\n",
    "    print(f\"{category.capitalize()}: {country_list}\")\n"
   ]
  },
  {
   "cell_type": "code",
   "execution_count": 21,
   "metadata": {},
   "outputs": [
    {
     "name": "stdout",
     "output_type": "stream",
     "text": [
      "F: 1\n",
      "I: 2\n",
      "S: 1\n",
      "D: 1\n",
      "N: 1\n"
     ]
    }
   ],
   "source": [
    "# Create a function returning a dictionary, where keys stand for starting letters of countries\n",
    "\n",
    "def count_countries_by_starting_letter(countries):\n",
    "    \n",
    "    letter_counts = {}\n",
    "\n",
    "    for country in countries:\n",
    "        # Lowercasing for case-insensitive matching\n",
    "        first_letter = country[0].lower()\n",
    "\n",
    "        # Increment the count for the starting letter\n",
    "        letter_counts[first_letter] = letter_counts.get(first_letter, 0) + 1\n",
    "\n",
    "    return letter_counts\n",
    "\n",
    "# Example usage:\n",
    "countries = ['Finland', 'Iceland', 'Sweden', 'Denmark', 'Norway', 'Ireland']\n",
    "result = count_countries_by_starting_letter(countries)\n",
    "\n",
    "# Print the letter counts\n",
    "for letter, count in result.items():\n",
    "    print(f\"{letter.upper()}: {count}\")\n"
   ]
  },
  {
   "cell_type": "code",
   "execution_count": 22,
   "metadata": {},
   "outputs": [],
   "source": [
    "import json"
   ]
  },
  {
   "cell_type": "code",
   "execution_count": null,
   "metadata": {},
   "outputs": [],
   "source": [
    "# Declare a get_first_ten_countries function - it returns a list of first ten countries from the countries.js list in the data folder.\n",
    "\n",
    "def get_first_ten_countries():\n",
    "    \n",
    "    # Assuming the countries.js file is in the 'data' folder\n",
    "    file_path = 'data/countries.js'\n",
    "\n",
    "    try:\n",
    "        with open('https://github.com/Asabeneh/30-Days-Of-Python/blob/master/data/countries-data.py, 'r'') as file:\n",
    "         \n",
    "            countries_data = json.load(file)\n",
    "\n",
    "            first_ten_countries = countries_data[:10]\n",
    "\n",
    "            return first_ten_countries\n",
    "    except FileNotFoundError:\n",
    "        print(f\"File '{file_path}' not found.\")\n",
    "        return []\n",
    "\n",
    "# Example usage:\n",
    "first_ten_countries_list = get_first_ten_countries()\n",
    "print(first_ten_countries_list)\n"
   ]
  },
  {
   "cell_type": "code",
   "execution_count": null,
   "metadata": {},
   "outputs": [],
   "source": [
    "# Declare a get_last_ten_countries function that returns the last ten countries in the countries list.\n",
    "\n",
    "def get_last_ten_countries():\n",
    "    \n",
    "    # Assuming the countries.js file is in the 'data' folder\n",
    "    file_path = 'data/countries.js'\n",
    "\n",
    "    try:\n",
    "        with open('https://github.com/Asabeneh/30-Days-Of-Python/blob/master/data/countries-data.py, 'r'', 'r') as file:\n",
    "            # Load the JSON content from the file\n",
    "            countries_data = json.load(file)\n",
    "\n",
    "            # Extract the names of the last ten countries\n",
    "            last_ten_countries = countries_data[-10:]\n",
    "\n",
    "            return last_ten_countries\n",
    "    except FileNotFoundError:\n",
    "        print(f\"File '{file_path}' not found.\")\n",
    "        return []\n",
    "\n",
    "# Example usage:\n",
    "last_ten_countries_list = get_last_ten_countries()\n",
    "print(last_ten_countries_list)\n"
   ]
  },
  {
   "cell_type": "markdown",
   "metadata": {},
   "source": [
    "#### Exercises: Level 3"
   ]
  },
  {
   "cell_type": "code",
   "execution_count": 29,
   "metadata": {},
   "outputs": [],
   "source": [
    "from operator import itemgetter"
   ]
  },
  {
   "cell_type": "code",
   "execution_count": null,
   "metadata": {},
   "outputs": [],
   "source": [
    "# Use the countries_data.py  file and follow the tasks below:\n",
    "\n",
    "# Import the data from countries_data.py\n",
    "from data.countries_data import countries\n",
    "\n",
    "def sort_countries_by(attribute):\n",
    "    \n",
    "    sorted_countries = sorted(countries, key=itemgetter(attribute))\n",
    "    return sorted_countries\n",
    "\n",
    "def get_most_spoken_languages(top_n=10):\n",
    "   \n",
    "    sorted_languages = sorted(countries, key=itemgetter('languages'), reverse=True)\n",
    "    most_spoken_languages = [language['languages'] for language in sorted_languages[:top_n]]\n",
    "    return most_spoken_languages\n",
    "\n",
    "def get_most_populated_countries(top_n=10):\n",
    "    \n",
    "    sorted_populated_countries = sorted(countries, key=itemgetter('population'), reverse=True)\n",
    "    most_populated_countries = [country['name'] for country in sorted_populated_countries[:top_n]]\n",
    "    return most_populated_countries\n",
    "\n",
    "# Sort countries by name, capital, and population\n",
    "sorted_countries_by_name = sort_countries_by('name')\n",
    "sorted_countries_by_capital = sort_countries_by('capital')\n",
    "sorted_countries_by_population = sort_countries_by('population')\n",
    "\n",
    "# Get the ten most spoken languages\n",
    "most_spoken_languages = get_most_spoken_languages()\n",
    "\n",
    "# Get the ten most populated countries\n",
    "most_populated_countries = get_most_populated_countries()\n",
    "\n",
    "# Print the results\n",
    "print(\"Countries sorted by name:\")\n",
    "print(sorted_countries_by_name)\n",
    "\n",
    "print(\"\\nCountries sorted by capital:\")\n",
    "print(sorted_countries_by_capital)\n",
    "\n",
    "print(\"\\nCountries sorted by population:\")\n",
    "print(sorted_countries_by_population)\n",
    "\n",
    "print(\"\\nTen most spoken languages:\")\n",
    "print(most_spoken_languages)\n",
    "\n",
    "print(\"\\nTen most populated countries:\")\n",
    "print(most_populated_countries)\n"
   ]
  }
 ],
 "metadata": {
  "kernelspec": {
   "display_name": "Python 3",
   "language": "python",
   "name": "python3"
  },
  "language_info": {
   "codemirror_mode": {
    "name": "ipython",
    "version": 3
   },
   "file_extension": ".py",
   "mimetype": "text/x-python",
   "name": "python",
   "nbconvert_exporter": "python",
   "pygments_lexer": "ipython3",
   "version": "3.11.3"
  }
 },
 "nbformat": 4,
 "nbformat_minor": 2
}
