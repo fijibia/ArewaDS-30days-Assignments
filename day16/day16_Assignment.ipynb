{
 "cells": [
  {
   "cell_type": "markdown",
   "metadata": {},
   "source": [
    "### Exercises: Day 16"
   ]
  },
  {
   "cell_type": "code",
   "execution_count": 9,
   "metadata": {},
   "outputs": [
    {
     "name": "stdout",
     "output_type": "stream",
     "text": [
      "2024-01-01 11:46:10.399754\n"
     ]
    }
   ],
   "source": [
    "# Get the current day, month, year, hour, minute and timestamp from datetime module\n",
    "\n",
    "from datetime import datetime\n",
    "now = datetime.now()\n",
    "print(now) "
   ]
  },
  {
   "cell_type": "code",
   "execution_count": 10,
   "metadata": {},
   "outputs": [
    {
     "name": "stdout",
     "output_type": "stream",
     "text": [
      "The current date is:  01/01/2024, 11:49:42\n"
     ]
    }
   ],
   "source": [
    "# Format the current date using this format: \"%m/%d/%Y, %H:%M:%S\")\n",
    "\n",
    "from datetime import datetime\n",
    "\n",
    "now = datetime.now()\n",
    "current_date = now.strftime(\"%m/%d/%Y, %H:%M:%S\")\n",
    "print(\"The current date is: \", current_date)"
   ]
  },
  {
   "cell_type": "code",
   "execution_count": 13,
   "metadata": {},
   "outputs": [
    {
     "name": "stdout",
     "output_type": "stream",
     "text": [
      "date_string = 1 January, 2024\n",
      "date_object = 2024-01-01 00:00:00\n"
     ]
    }
   ],
   "source": [
    "# Today is 1 January, 2024. Change this time string to time.\n",
    "\n",
    "from datetime import datetime\n",
    "date_string = \"1 January, 2024\"\n",
    "print(\"date_string =\", date_string)\n",
    "date_object = datetime.strptime(date_string, \"%d %B, %Y\")\n",
    "print(\"date_object =\", date_object)"
   ]
  },
  {
   "cell_type": "code",
   "execution_count": 14,
   "metadata": {},
   "outputs": [
    {
     "name": "stdout",
     "output_type": "stream",
     "text": [
      "Time left for new year:  366 days, 0:00:00\n"
     ]
    }
   ],
   "source": [
    "# Calculate the time difference between now and new year.\n",
    "\n",
    "from datetime import date\n",
    "\n",
    "today = date(year=2024, month=1, day=1)\n",
    "new_year = date(year=2025, month=1, day=1)\n",
    "time_left_for_newyear = new_year - today\n",
    "# Time left for new year:  27 days, 0:00:00\n",
    "print('Time left for new year: ', time_left_for_newyear)"
   ]
  },
  {
   "cell_type": "code",
   "execution_count": 17,
   "metadata": {},
   "outputs": [
    {
     "name": "stdout",
     "output_type": "stream",
     "text": [
      "the diff bw january 1970 and now is:  19723 days, 0:00:00\n"
     ]
    }
   ],
   "source": [
    "# Calculate the time difference between 1 January 1970 and now\n",
    "\n",
    "from datetime import date\n",
    "\n",
    "january_1970 = date(year=1970, month=1, day=1)\n",
    "now = date(year=2024, month=1, day=1)\n",
    "diff_1970_now = now - january_1970\n",
    "print('the diff bw january 1970 and now is: ', diff_1970_now)\n",
    "\n"
   ]
  }
 ],
 "metadata": {
  "kernelspec": {
   "display_name": "Python 3",
   "language": "python",
   "name": "python3"
  },
  "language_info": {
   "codemirror_mode": {
    "name": "ipython",
    "version": 3
   },
   "file_extension": ".py",
   "mimetype": "text/x-python",
   "name": "python",
   "nbconvert_exporter": "python",
   "pygments_lexer": "ipython3",
   "version": "3.11.3"
  }
 },
 "nbformat": 4,
 "nbformat_minor": 2
}
