{
 "cells": [
  {
   "cell_type": "markdown",
   "metadata": {},
   "source": [
    "#### Exercises: Level 1"
   ]
  },
  {
   "cell_type": "code",
   "execution_count": 1,
   "metadata": {},
   "outputs": [
    {
     "name": "stdout",
     "output_type": "stream",
     "text": [
      "The most frequent word is: love\n"
     ]
    }
   ],
   "source": [
    "# What is the most frequent word in the following paragraph?\n",
    "\n",
    "from collections import Counter\n",
    "import re\n",
    "\n",
    "paragraph = 'I love teaching. If you do not love teaching what else can you love. I love Python if you do not love something which can give you all the capabilities to develop an application what else can you love.'\n",
    "\n",
    "# Tokenize the words\n",
    "words = re.findall(r'\\b\\w+\\b', paragraph.lower())\n",
    "\n",
    "# Count the occurrences of each word\n",
    "word_counts = Counter(words)\n",
    "\n",
    "# Find the most common word\n",
    "most_common_word = word_counts.most_common(1)[0][0]\n",
    "\n",
    "print(\"The most frequent word is:\", most_common_word)\n"
   ]
  },
  {
   "cell_type": "code",
   "execution_count": 2,
   "metadata": {},
   "outputs": [
    {
     "name": "stdout",
     "output_type": "stream",
     "text": [
      "Furthest positions: [-12, -4]\n",
      "Distance between the furthest positions: 8\n"
     ]
    }
   ],
   "source": [
    "# Extract these numbers from this whole text and find the distance between the two furthest particles.\n",
    "\n",
    "import re\n",
    "\n",
    "text = \"The position of some particles on the horizontal x-axis are -12, -4, -3 and -1 in the negative direction, 0 at origin, 4 and 8 in the positive direction.\"\n",
    "\n",
    "# Extract numbers from the text\n",
    "positions = [int(match.group()) for match in re.finditer(r'-?\\d+', text)]\n",
    "\n",
    "# Find the two furthest positions\n",
    "furthest_positions = sorted(positions)[:2]\n",
    "\n",
    "# Calculate the distance between the furthest positions\n",
    "distance = abs(furthest_positions[0] - furthest_positions[1])\n",
    "\n",
    "print(\"Furthest positions:\", furthest_positions)\n",
    "print(\"Distance between the furthest positions:\", distance)\n"
   ]
  },
  {
   "cell_type": "markdown",
   "metadata": {},
   "source": [
    "#### Exercises: Level 2"
   ]
  },
  {
   "cell_type": "code",
   "execution_count": 3,
   "metadata": {},
   "outputs": [
    {
     "name": "stdout",
     "output_type": "stream",
     "text": [
      "True\n",
      "True\n",
      "False\n",
      "False\n"
     ]
    }
   ],
   "source": [
    "# Write a pattern which identifies if a string is a valid python variable\n",
    "\n",
    "import re\n",
    "\n",
    "def is_valid_variable(variable_name):\n",
    "    pattern = re.compile(r'^[a-zA-Z_]\\w*$')\n",
    "    return bool(pattern.match(variable_name))\n",
    "\n",
    "# Test cases\n",
    "print(is_valid_variable('valid_variable'))    # True\n",
    "print(is_valid_variable('_another_variable'))  # True\n",
    "print(is_valid_variable('123_variable'))       # False (starts with a digit)\n",
    "print(is_valid_variable('special-char'))       # False (contains a hyphen)\n"
   ]
  },
  {
   "cell_type": "markdown",
   "metadata": {},
   "source": [
    "#### Exercises: Level 3"
   ]
  },
  {
   "cell_type": "code",
   "execution_count": 4,
   "metadata": {},
   "outputs": [
    {
     "name": "stdout",
     "output_type": "stream",
     "text": [
      "Cleaned Sentence: i am a teacher and i love teaching there is nothing as more rewarding as edu\n",
      "\n",
      "Three Most Frequent Words:\n",
      "i: 2\n",
      "as: 2\n",
      "am: 1\n"
     ]
    }
   ],
   "source": [
    "# Clean the following text. After cleaning, count three most frequent words in the string.\n",
    "\n",
    "import re\n",
    "from collections import Counter\n",
    "\n",
    "sentence = '''%I $am@% a %tea@cher%, &and& I lo%#ve %tea@ching%;. There $is nothing; &as& mo@re rewarding as edu'''\n",
    "\n",
    "# Step 1: Remove special characters and punctuation\n",
    "cleaned_sentence = re.sub(r'[^A-Za-z\\s]', '', sentence)\n",
    "\n",
    "# Step 2: Convert to lowercase\n",
    "cleaned_sentence = cleaned_sentence.lower()\n",
    "\n",
    "# Step 3: Tokenize into words\n",
    "words = cleaned_sentence.split()\n",
    "\n",
    "# Step 4: Count occurrences of each word\n",
    "word_counts = Counter(words)\n",
    "\n",
    "# Step 5: Find three most frequent words\n",
    "most_frequent_words = word_counts.most_common(3)\n",
    "\n",
    "# Print the cleaned sentence and the three most frequent words\n",
    "print(\"Cleaned Sentence:\", cleaned_sentence)\n",
    "print(\"\\nThree Most Frequent Words:\")\n",
    "for word, count in most_frequent_words:\n",
    "    print(f\"{word}: {count}\")\n"
   ]
  }
 ],
 "metadata": {
  "kernelspec": {
   "display_name": "Python 3",
   "language": "python",
   "name": "python3"
  },
  "language_info": {
   "codemirror_mode": {
    "name": "ipython",
    "version": 3
   },
   "file_extension": ".py",
   "mimetype": "text/x-python",
   "name": "python",
   "nbconvert_exporter": "python",
   "pygments_lexer": "ipython3",
   "version": "3.11.3"
  }
 },
 "nbformat": 4,
 "nbformat_minor": 2
}
