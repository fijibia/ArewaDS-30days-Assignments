{
 "cells": [
  {
   "cell_type": "markdown",
   "metadata": {},
   "source": [
    "### Exercises - Day 3"
   ]
  },
  {
   "cell_type": "code",
   "execution_count": 46,
   "metadata": {},
   "outputs": [
    {
     "name": "stdout",
     "output_type": "stream",
     "text": [
      "35 65.0 (2+1j)\n"
     ]
    }
   ],
   "source": [
    "# 1,2,3\n",
    "\n",
    "age = 35\n",
    "height = 65.0\n",
    "complex_number = 2 + 1j\n",
    "print(age,height,complex_number)"
   ]
  },
  {
   "cell_type": "code",
   "execution_count": 5,
   "metadata": {},
   "outputs": [
    {
     "name": "stdout",
     "output_type": "stream",
     "text": [
      "6.0\n"
     ]
    }
   ],
   "source": [
    "#4\n",
    "\n",
    "base = int(input(\"Please Enter base: \"))\n",
    "height = int(input(\"Please Enter height: \"))\n",
    "\n",
    "area_of_triangle = 0.5 * base * height\n",
    "print(area_of_triangle)"
   ]
  },
  {
   "cell_type": "code",
   "execution_count": 22,
   "metadata": {},
   "outputs": [
    {
     "name": "stdout",
     "output_type": "stream",
     "text": [
      "13\n"
     ]
    }
   ],
   "source": [
    "#5 Perimeter of a triangle\n",
    "\n",
    "side_a = int(input(\"Enter the length of side a: \"))\n",
    "side_b = int(input(\"Enter the length of side b: \"))\n",
    "side_c = int(input(\"Enter the length of side c: \"))\n",
    "\n",
    "perimeter = side_a + side_b + side_c\n",
    "\n",
    "print(perimeter)"
   ]
  },
  {
   "cell_type": "code",
   "execution_count": 14,
   "metadata": {},
   "outputs": [],
   "source": [
    "#6 Width of a rectangle\n",
    "\n",
    "length = int(input(\"Enter the length of a rectangle: \"))\n",
    "width = int(input(\"Enter the width of a rectangle: \"))\n",
    "\n",
    "area = length * width\n",
    "perimeter = 2 * (length + width)\n",
    "\n"
   ]
  },
  {
   "cell_type": "code",
   "execution_count": 19,
   "metadata": {},
   "outputs": [],
   "source": [
    "#7 Area of Circle\n",
    "\n",
    "radius = int(input(\"Enter radius of a circle: \"))\n",
    "pi = 3.14\n",
    "\n",
    "area = pi * radius ** 2\n",
    "circumference = 2 * pi * radius\n",
    "\n"
   ]
  },
  {
   "cell_type": "code",
   "execution_count": 21,
   "metadata": {},
   "outputs": [
    {
     "name": "stdout",
     "output_type": "stream",
     "text": [
      "1.0\n"
     ]
    }
   ],
   "source": [
    "#8 slope, x-intercept and y-intercept \n",
    "\n",
    "# Coefficients\n",
    "slope = 2  # Coefficient of x (slope)\n",
    "y_intercept = -2  # Constant term (y-intercept)\n",
    "\n",
    "# Calculate x-intercept (where y = 0)\n",
    "x_intercept = -y_intercept / slope\n",
    "\n",
    "print(x_intercept)\n"
   ]
  },
  {
   "cell_type": "code",
   "execution_count": 27,
   "metadata": {},
   "outputs": [
    {
     "name": "stdout",
     "output_type": "stream",
     "text": [
      "Slope (m): 2.0\n",
      "Euclidean Distance between (2, 2) and (6, 10): 8.94\n"
     ]
    }
   ],
   "source": [
    "#9 slope and Euclidean distance\n",
    "\n",
    "# Given points\n",
    "x1, y1 = 2, 2\n",
    "x2, y2 = 6, 10\n",
    "\n",
    "# Calculate the slope (m)\n",
    "slope = (y2 - y1) / (x2 - x1)\n",
    "\n",
    "# Calculate the Euclidean distance\n",
    "euclidean_distance = ((x2 - x1)**2 + (y2 - y1)**2)**0.5\n",
    "\n",
    "# Display the results\n",
    "print(f\"Slope (m): {slope}\")\n",
    "print(f\"Euclidean Distance between ({x1}, {y1}) and ({x2}, {y2}): {euclidean_distance:.2f}\")\n"
   ]
  },
  {
   "cell_type": "code",
   "execution_count": 29,
   "metadata": {},
   "outputs": [
    {
     "data": {
      "text/plain": [
       "True"
      ]
     },
     "execution_count": 29,
     "metadata": {},
     "output_type": "execute_result"
    }
   ],
   "source": [
    "# 10 Comparison of Slopes\n",
    "\n",
    "slope == slope"
   ]
  },
  {
   "cell_type": "code",
   "execution_count": 41,
   "metadata": {},
   "outputs": [
    {
     "name": "stdout",
     "output_type": "stream",
     "text": [
      "9\n"
     ]
    }
   ],
   "source": [
    "# 11\n",
    "\n",
    "x = 0\n",
    "y = x**2 + (6*x) + 9\n",
    "print(y)"
   ]
  },
  {
   "cell_type": "code",
   "execution_count": 43,
   "metadata": {},
   "outputs": [
    {
     "name": "stdout",
     "output_type": "stream",
     "text": [
      "False\n"
     ]
    }
   ],
   "source": [
    "# 12\n",
    "\n",
    "print(len('python') > len('dragon'))"
   ]
  },
  {
   "cell_type": "code",
   "execution_count": 44,
   "metadata": {},
   "outputs": [
    {
     "name": "stdout",
     "output_type": "stream",
     "text": [
      "True\n"
     ]
    }
   ],
   "source": [
    "# 13\n",
    "\n",
    "print('on in python:'and 'on' in 'dragon')"
   ]
  },
  {
   "cell_type": "code",
   "execution_count": 47,
   "metadata": {},
   "outputs": [
    {
     "name": "stdout",
     "output_type": "stream",
     "text": [
      "True\n"
     ]
    }
   ],
   "source": [
    "# 14\n",
    "\n",
    "print('jargon' in 'I hope this course is not full of jargon')"
   ]
  },
  {
   "cell_type": "code",
   "execution_count": 75,
   "metadata": {},
   "outputs": [
    {
     "name": "stdout",
     "output_type": "stream",
     "text": [
      "At least one of 'dragon' and 'python' contains 'on'.\n"
     ]
    }
   ],
   "source": [
    "#15\n",
    "\n",
    "word1 = \"dragon\"\n",
    "word2 = \"python\"\n",
    "\n",
    "# Check if 'on' is not in both words\n",
    "if 'on' not in word1 and 'on' not in word2:\n",
    "    print(\"Both 'dragon' and 'python' don't contain 'on'.\")\n",
    "else:\n",
    "    print(\"At least one of 'dragon' and 'python' contains 'on'.\")\n"
   ]
  },
  {
   "cell_type": "code",
   "execution_count": 53,
   "metadata": {},
   "outputs": [
    {
     "name": "stdout",
     "output_type": "stream",
     "text": [
      "6 6.0 6.0\n"
     ]
    }
   ],
   "source": [
    "#16\n",
    "\n",
    "len_python = (len('python'))\n",
    "\n",
    "len_float = float(len_python)\n",
    "\n",
    "len_str = str(len_float)\n",
    "\n",
    "print(len_python,len_float,len_str)\n"
   ]
  },
  {
   "cell_type": "code",
   "execution_count": 55,
   "metadata": {},
   "outputs": [
    {
     "name": "stdout",
     "output_type": "stream",
     "text": [
      "4 is even.\n",
      "7 is odd.\n"
     ]
    }
   ],
   "source": [
    "#17 \n",
    "\n",
    "# In Python, you can check if a number is even or not by using the modulo operator (%). \n",
    "# If a number is divisible by 2 with no remainder, it is even; otherwise, it's odd.\n",
    "\n",
    "def is_even(number):\n",
    "    return number % 2 == 0\n",
    "\n",
    "# Example usage\n",
    "num1 = 4\n",
    "num2 = 7\n",
    "\n",
    "if is_even(num1):\n",
    "    print(f\"{num1} is even.\")\n",
    "else:\n",
    "    print(f\"{num1} is odd.\")\n",
    "\n",
    "if is_even(num2):\n",
    "    print(f\"{num2} is even.\")\n",
    "else:\n",
    "    print(f\"{num2} is odd.\")\n"
   ]
  },
  {
   "cell_type": "code",
   "execution_count": 58,
   "metadata": {},
   "outputs": [
    {
     "data": {
      "text/plain": [
       "True"
      ]
     },
     "execution_count": 58,
     "metadata": {},
     "output_type": "execute_result"
    }
   ],
   "source": [
    "#18\n",
    "\n",
    "7 // 3 == int(2.7)\n"
   ]
  },
  {
   "cell_type": "code",
   "execution_count": 59,
   "metadata": {},
   "outputs": [
    {
     "data": {
      "text/plain": [
       "False"
      ]
     },
     "execution_count": 59,
     "metadata": {},
     "output_type": "execute_result"
    }
   ],
   "source": [
    "#19\n",
    "\n",
    "type('10') == type(10)"
   ]
  },
  {
   "cell_type": "code",
   "execution_count": 60,
   "metadata": {},
   "outputs": [
    {
     "data": {
      "text/plain": [
       "False"
      ]
     },
     "execution_count": 60,
     "metadata": {},
     "output_type": "execute_result"
    }
   ],
   "source": [
    "#20\n",
    "\n",
    "int(9.8) == 10"
   ]
  },
  {
   "cell_type": "code",
   "execution_count": 66,
   "metadata": {},
   "outputs": [
    {
     "name": "stdout",
     "output_type": "stream",
     "text": [
      "Your weekly earnings is:  20\n"
     ]
    }
   ],
   "source": [
    "#21\n",
    "\n",
    "hours = int(input(\"Enter hours \"))\n",
    "rate_per_hour = int(input(\"Enter rate per hour \"))\n",
    "\n",
    "pay = hours * rate_per_hour\n",
    "print(\"Your weekly earnings is: \", pay)\n",
    "\n",
    "\n"
   ]
  },
  {
   "cell_type": "code",
   "execution_count": 69,
   "metadata": {},
   "outputs": [
    {
     "name": "stdout",
     "output_type": "stream",
     "text": [
      "3155760000.0\n"
     ]
    }
   ],
   "source": [
    "#22\n",
    "seconds_in_a_minute = 60\n",
    "minutes_in_an_hour = 60\n",
    "seconds_in_a_year = seconds_in_a_minute * minutes_in_an_hour * 24 * 365.25\n",
    "number_of_years = int(input(\"Enter number of years you have lived\" ))\n",
    "total_seconds_alive = seconds_in_a_year *  number_of_years\n",
    "print(total_seconds_alive)"
   ]
  },
  {
   "cell_type": "code",
   "execution_count": 74,
   "metadata": {},
   "outputs": [
    {
     "name": "stdout",
     "output_type": "stream",
     "text": [
      "1 1 1 1 1\n",
      "2 1 2 4 8\n",
      "3 1 3 9 27\n",
      "4 1 4 16 64\n",
      "5 1 5 25 125\n"
     ]
    }
   ],
   "source": [
    "#23\n",
    "\n",
    "# Display table\n",
    "for i in range(1, 6):\n",
    "    print(f\"{i} 1 {i} {i**2} {i**3}\")"
   ]
  }
 ],
 "metadata": {
  "kernelspec": {
   "display_name": "Python 3",
   "language": "python",
   "name": "python3"
  },
  "language_info": {
   "codemirror_mode": {
    "name": "ipython",
    "version": 3
   },
   "file_extension": ".py",
   "mimetype": "text/x-python",
   "name": "python",
   "nbconvert_exporter": "python",
   "pygments_lexer": "ipython3",
   "version": "3.11.3"
  }
 },
 "nbformat": 4,
 "nbformat_minor": 2
}
