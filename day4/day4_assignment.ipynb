{
 "cells": [
  {
   "cell_type": "code",
   "execution_count": null,
   "metadata": {},
   "outputs": [],
   "source": []
  },
  {
   "cell_type": "markdown",
   "metadata": {},
   "source": [
    "### Day 4 - Strings"
   ]
  },
  {
   "cell_type": "code",
   "execution_count": 5,
   "metadata": {},
   "outputs": [
    {
     "name": "stdout",
     "output_type": "stream",
     "text": [
      "Thirty Days Of Python\n"
     ]
    }
   ],
   "source": [
    "# 1\n",
    "\n",
    "single_string = 'Thirty' + ' ' + 'Days' + ' ' + 'Of' + ' ' + 'Python'\n",
    "print(single_string)"
   ]
  },
  {
   "cell_type": "code",
   "execution_count": 6,
   "metadata": {},
   "outputs": [
    {
     "name": "stdout",
     "output_type": "stream",
     "text": [
      "Coding For All\n"
     ]
    }
   ],
   "source": [
    "# 2\n",
    "\n",
    "string1 = 'Coding' \n",
    "string2 = 'For' \n",
    "string3 = 'All'\n",
    "\n",
    "result_string = string1 + ' ' + string2 + ' ' + string3\n",
    "print(result_string)"
   ]
  },
  {
   "cell_type": "code",
   "execution_count": 1,
   "metadata": {},
   "outputs": [
    {
     "name": "stdout",
     "output_type": "stream",
     "text": [
      "Coding For All\n",
      "14\n",
      "For All\n"
     ]
    }
   ],
   "source": [
    "# 3 - 9\n",
    "\n",
    "company = \"Coding For All\"\n",
    "print(company)\n",
    "\n",
    "print(len(company))\n",
    "\n",
    "company.upper()\n",
    "\n",
    "company.lower()\n",
    "\n",
    "company.capitalize()\n",
    "\n",
    "company.title()\n",
    "\n",
    "company.swapcase()\n",
    "\n",
    "sliced_string = company.split(' ', 1)[1]\n",
    "print(sliced_string)\n"
   ]
  },
  {
   "cell_type": "code",
   "execution_count": 3,
   "metadata": {},
   "outputs": [
    {
     "name": "stdout",
     "output_type": "stream",
     "text": [
      "The word 'Coding' is present at index 0.\n"
     ]
    }
   ],
   "source": [
    "# 10\n",
    "\n",
    "company = 'Coding For All'\n",
    "search_word = \"Coding\"\n",
    "\n",
    "try:\n",
    "    index = company.index(search_word)\n",
    "    print(f\"The word '{search_word}' is present at index {index}.\")\n",
    "except ValueError:\n",
    "    print(f\"The word '{search_word}' is not present in the string.\")"
   ]
  },
  {
   "cell_type": "code",
   "execution_count": 5,
   "metadata": {},
   "outputs": [
    {
     "name": "stdout",
     "output_type": "stream",
     "text": [
      "Python For All\n"
     ]
    }
   ],
   "source": [
    "# 11\n",
    "\n",
    "original_string = \"Coding For All\"\n",
    "updated_string = original_string.replace(\"Coding\", \"Python\")\n",
    "\n",
    "print(updated_string)"
   ]
  },
  {
   "cell_type": "code",
   "execution_count": 6,
   "metadata": {},
   "outputs": [
    {
     "name": "stdout",
     "output_type": "stream",
     "text": [
      "Python For All\n"
     ]
    }
   ],
   "source": [
    "# 12\n",
    "\n",
    "original_string = \"Python For Everyone\"\n",
    "updated_string = original_string.replace(\"Everyone\", \"All\")\n",
    "\n",
    "print(updated_string)\n"
   ]
  },
  {
   "cell_type": "code",
   "execution_count": 7,
   "metadata": {},
   "outputs": [
    {
     "name": "stdout",
     "output_type": "stream",
     "text": [
      "['Coding', 'For', 'All']\n"
     ]
    }
   ],
   "source": [
    "# 13\n",
    "\n",
    "original_string = \"Coding For All\"\n",
    "word_list = original_string.split()\n",
    "\n",
    "print(word_list)\n"
   ]
  },
  {
   "cell_type": "code",
   "execution_count": 8,
   "metadata": {},
   "outputs": [
    {
     "name": "stdout",
     "output_type": "stream",
     "text": [
      "['Facebook,', 'Google,', 'Microsoft,', 'Apple,', 'IBM,', 'Oracle,', 'Amazon']\n"
     ]
    }
   ],
   "source": [
    "# 14\n",
    "\n",
    "str_original = \"Facebook, Google, Microsoft, Apple, IBM, Oracle, Amazon\"\n",
    "str_list = str_original.split()\n",
    "\n",
    "print(str_list)"
   ]
  },
  {
   "cell_type": "code",
   "execution_count": 9,
   "metadata": {},
   "outputs": [
    {
     "name": "stdout",
     "output_type": "stream",
     "text": [
      "C\n"
     ]
    }
   ],
   "source": [
    "# 15\n",
    "\n",
    "original_text = \"Coding For All\"\n",
    "character_at_index_0 = original_text[0]\n",
    "\n",
    "print(character_at_index_0)\n"
   ]
  },
  {
   "cell_type": "code",
   "execution_count": 10,
   "metadata": {},
   "outputs": [
    {
     "name": "stdout",
     "output_type": "stream",
     "text": [
      "l\n"
     ]
    }
   ],
   "source": [
    "# 16\n",
    "\n",
    "original_text = \"Coding For All\"\n",
    "last_index = len(original_text) - 1\n",
    "last_character = original_text[last_index]\n",
    "\n",
    "print(last_character)\n"
   ]
  },
  {
   "cell_type": "code",
   "execution_count": 12,
   "metadata": {},
   "outputs": [
    {
     "name": "stdout",
     "output_type": "stream",
     "text": [
      " \n"
     ]
    }
   ],
   "source": [
    "#17\n",
    "\n",
    "original_text = \"Coding For All\"\n",
    "character_at_index_10 = original_text[10]\n",
    "\n",
    "print(character_at_index_10)"
   ]
  },
  {
   "cell_type": "code",
   "execution_count": 15,
   "metadata": {},
   "outputs": [
    {
     "name": "stdout",
     "output_type": "stream",
     "text": [
      "PFE\n"
     ]
    }
   ],
   "source": [
    "# 18\n",
    "def fxn(stng):\n",
    "   \n",
    "    # add first letter\n",
    "    oupt = stng[0]\n",
    "     \n",
    "    # iterate over string\n",
    "    for i in range(1, len(stng)):\n",
    "        if stng[i-1] == ' ':\n",
    "           \n",
    "            # add letter next to space\n",
    "            oupt += stng[i]\n",
    "             \n",
    "    # uppercase oupt\n",
    "    oupt = oupt.upper()\n",
    "    return oupt\n",
    " \n",
    " \n",
    "# input string\n",
    "inpt1 = \"Python For Everyone\"\n",
    " \n",
    "# output acronym\n",
    "print(fxn(inpt1))\n"
   ]
  },
  {
   "cell_type": "code",
   "execution_count": 16,
   "metadata": {},
   "outputs": [
    {
     "name": "stdout",
     "output_type": "stream",
     "text": [
      "CFA\n"
     ]
    }
   ],
   "source": [
    "# 19\n",
    "\n",
    "def fxn(stng):\n",
    "   \n",
    "    # add first letter\n",
    "    oupt = stng[0]\n",
    "     \n",
    "    # iterate over string\n",
    "    for i in range(1, len(stng)):\n",
    "        if stng[i-1] == ' ':\n",
    "           \n",
    "            # add letter next to space\n",
    "            oupt += stng[i]\n",
    "             \n",
    "    # uppercase oupt\n",
    "    oupt = oupt.upper()\n",
    "    return oupt\n",
    " \n",
    " \n",
    "# input string\n",
    "inpt1 = \"Coding For All\"\n",
    " \n",
    "# output acronym\n",
    "print(fxn(inpt1))\n"
   ]
  },
  {
   "cell_type": "code",
   "execution_count": 22,
   "metadata": {},
   "outputs": [
    {
     "name": "stdout",
     "output_type": "stream",
     "text": [
      "0\n",
      "7\n"
     ]
    }
   ],
   "source": [
    "# 20-21\n",
    "\n",
    "original_text = \"Coding For All\"\n",
    "position_of_C = original_text.index('C')\n",
    "\n",
    "print(position_of_C)\n",
    "\n",
    "original_string = \"Coding For All\"\n",
    "position_of_C = original_string.index('F')\n",
    "\n",
    "print(position_of_C)\n",
    "\n"
   ]
  },
  {
   "cell_type": "code",
   "execution_count": 23,
   "metadata": {},
   "outputs": [
    {
     "name": "stdout",
     "output_type": "stream",
     "text": [
      "19\n"
     ]
    }
   ],
   "source": [
    "# 22\n",
    "\n",
    "original_string = \"Coding For All People\"\n",
    "position_of_last_l = original_string.rfind('l')\n",
    "\n",
    "print(position_of_last_l)\n"
   ]
  },
  {
   "cell_type": "code",
   "execution_count": 24,
   "metadata": {},
   "outputs": [
    {
     "name": "stdout",
     "output_type": "stream",
     "text": [
      "31\n"
     ]
    }
   ],
   "source": [
    "# 23\n",
    "\n",
    "original_text = \"You cannot end a sentence with because because because is a conjunction\"\n",
    "position_of_because = original_text.index('because')\n",
    "\n",
    "print(position_of_because)"
   ]
  },
  {
   "cell_type": "code",
   "execution_count": 25,
   "metadata": {},
   "outputs": [
    {
     "name": "stdout",
     "output_type": "stream",
     "text": [
      "47\n"
     ]
    }
   ],
   "source": [
    "# 24\n",
    "\n",
    "original_string = \"You cannot end a sentence with because because because is a conjunction\"\n",
    "position_of_last_because = original_string.rfind('because')\n",
    "\n",
    "print(position_of_last_because)"
   ]
  },
  {
   "cell_type": "code",
   "execution_count": 28,
   "metadata": {},
   "outputs": [
    {
     "name": "stdout",
     "output_type": "stream",
     "text": [
      "because because because \n"
     ]
    }
   ],
   "source": [
    "# 25\n",
    "\n",
    "text = \"You cannot end a sentence with because because because is a conjunction\"\n",
    "sliced_text = text[31:55]\n",
    "print(sliced_text)\n"
   ]
  },
  {
   "cell_type": "code",
   "execution_count": 29,
   "metadata": {},
   "outputs": [
    {
     "name": "stdout",
     "output_type": "stream",
     "text": [
      "31\n"
     ]
    }
   ],
   "source": [
    "# 26\n",
    "\n",
    "original_text = \"You cannot end a sentence with because because because is a conjunction\"\n",
    "position_of_because = original_text.index('because')\n",
    "\n",
    "print(position_of_because)"
   ]
  },
  {
   "cell_type": "code",
   "execution_count": 30,
   "metadata": {},
   "outputs": [
    {
     "name": "stdout",
     "output_type": "stream",
     "text": [
      "because because because \n"
     ]
    }
   ],
   "source": [
    "# 27\n",
    "\n",
    "text = \"You cannot end a sentence with because because because is a conjunction\"\n",
    "sliced_text = text[31:55]\n",
    "print(sliced_text)\n"
   ]
  },
  {
   "cell_type": "code",
   "execution_count": 31,
   "metadata": {},
   "outputs": [
    {
     "name": "stdout",
     "output_type": "stream",
     "text": [
      "The string starts with 'Coding'.\n"
     ]
    }
   ],
   "source": [
    "# 28\n",
    "\n",
    "original_text = 'Coding For All'\n",
    "substring_to_check = 'Coding'\n",
    "\n",
    "if original_text.startswith(substring_to_check):\n",
    "    print(f\"The string starts with '{substring_to_check}'.\")\n",
    "else:\n",
    "    print(f\"The string does not start with '{substring_to_check}'.\")\n"
   ]
  },
  {
   "cell_type": "code",
   "execution_count": 32,
   "metadata": {},
   "outputs": [
    {
     "name": "stdout",
     "output_type": "stream",
     "text": [
      "The string does not ends with 'Coding'.\n"
     ]
    }
   ],
   "source": [
    "#29\n",
    "\n",
    "original_string = 'Coding For All'\n",
    "substring_to_check = 'Coding'\n",
    "\n",
    "if original_string.endswith(substring_to_check):\n",
    "    print(f\"The string ends with '{substring_to_check}'.\")\n",
    "else:\n",
    "    print(f\"The string does not ends with '{substring_to_check}'.\")\n"
   ]
  },
  {
   "cell_type": "code",
   "execution_count": 33,
   "metadata": {},
   "outputs": [
    {
     "name": "stdout",
     "output_type": "stream",
     "text": [
      "Coding For All\n"
     ]
    }
   ],
   "source": [
    "#30\n",
    "\n",
    "original_string = '   Coding For All      '\n",
    "trimmed_string = original_string.strip()\n",
    "\n",
    "print(trimmed_string)\n"
   ]
  },
  {
   "cell_type": "code",
   "execution_count": 34,
   "metadata": {},
   "outputs": [
    {
     "name": "stdout",
     "output_type": "stream",
     "text": [
      "False\n",
      "True\n"
     ]
    }
   ],
   "source": [
    "# 31\n",
    "\n",
    "variable1 = '30DaysOfPython'\n",
    "variable2 = 'thirty_days_of_python'\n",
    "\n",
    "print(variable1.isidentifier())  # False\n",
    "print(variable2.isidentifier())  # True\n"
   ]
  },
  {
   "cell_type": "code",
   "execution_count": 38,
   "metadata": {},
   "outputs": [
    {
     "name": "stdout",
     "output_type": "stream",
     "text": [
      "Django # Flask # Bottle # Pyramid # Falcon\n"
     ]
    }
   ],
   "source": [
    "# 32\n",
    "\n",
    "python_libraries = ['Django', 'Flask', 'Bottle', 'Pyramid', 'Falcon']\n",
    "joined_string = ' # '.join(python_libraries)\n",
    "\n",
    "print(joined_string)\n"
   ]
  },
  {
   "cell_type": "code",
   "execution_count": 39,
   "metadata": {},
   "outputs": [
    {
     "name": "stdout",
     "output_type": "stream",
     "text": [
      "I am enjoying this challenge.\n",
      "I just wonder what is next.\n"
     ]
    }
   ],
   "source": [
    "# 33\n",
    "\n",
    "sentences = \"I am enjoying this challenge.\\nI just wonder what is next.\"\n",
    "print(sentences)\n"
   ]
  },
  {
   "cell_type": "code",
   "execution_count": 40,
   "metadata": {},
   "outputs": [
    {
     "name": "stdout",
     "output_type": "stream",
     "text": [
      "Name\tAge\tCountry\tCity\n",
      "Asabeneh\t250\tFinland\tHelsinki\n"
     ]
    }
   ],
   "source": [
    "# 34\n",
    "\n",
    "data = \"Name\\tAge\\tCountry\\tCity\\nAsabeneh\\t250\\tFinland\\tHelsinki\"\n",
    "print(data)\n"
   ]
  },
  {
   "cell_type": "code",
   "execution_count": 46,
   "metadata": {},
   "outputs": [
    {
     "name": "stdout",
     "output_type": "stream",
     "text": [
      "The area of a circle with radius 10 is 314.0 square meters.\n"
     ]
    }
   ],
   "source": [
    "# 35\n",
    "\n",
    "radius = 10\n",
    "area = 3.14 * radius ** 2\n",
    "\n",
    "output = f\"The area of a circle with radius {radius} is {area} square meters.\"\n",
    "print(output)\n"
   ]
  },
  {
   "cell_type": "code",
   "execution_count": 47,
   "metadata": {},
   "outputs": [
    {
     "name": "stdout",
     "output_type": "stream",
     "text": [
      "8 + 6 = 14\n",
      "8 - 6 = 2\n",
      "8 * 6 = 48\n",
      "8 / 6 = 1.33\n",
      "8 % 6 = 2\n",
      "8 // 6 = 1\n",
      "8 ** 6 = 262144\n"
     ]
    }
   ],
   "source": [
    "# 36\n",
    "\n",
    "a = 8\n",
    "b = 6\n",
    "\n",
    "addition = f\"{a} + {b} = {a + b}\"\n",
    "subtraction = f\"{a} - {b} = {a - b}\"\n",
    "multiplication = f\"{a} * {b} = {a * b}\"\n",
    "division = f\"{a} / {b} = {a / b:.2f}\"\n",
    "modulus = f\"{a} % {b} = {a % b}\"\n",
    "floor_division = f\"{a} // {b} = {a // b}\"\n",
    "exponentiation = f\"{a} ** {b} = {a ** b}\"\n",
    "\n",
    "print(addition)\n",
    "print(subtraction)\n",
    "print(multiplication)\n",
    "print(division)\n",
    "print(modulus)\n",
    "print(floor_division)\n",
    "print(exponentiation)\n"
   ]
  }
 ],
 "metadata": {
  "kernelspec": {
   "display_name": "Python 3",
   "language": "python",
   "name": "python3"
  },
  "language_info": {
   "codemirror_mode": {
    "name": "ipython",
    "version": 3
   },
   "file_extension": ".py",
   "mimetype": "text/x-python",
   "name": "python",
   "nbconvert_exporter": "python",
   "pygments_lexer": "ipython3",
   "version": "3.11.3"
  }
 },
 "nbformat": 4,
 "nbformat_minor": 2
}
