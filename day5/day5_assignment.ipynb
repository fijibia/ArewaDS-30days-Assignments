{
 "cells": [
  {
   "cell_type": "markdown",
   "metadata": {},
   "source": [
    "### Exercises: Level 1"
   ]
  },
  {
   "cell_type": "code",
   "execution_count": 5,
   "metadata": {},
   "outputs": [],
   "source": [
    "# 1 -3\n",
    "\n",
    "vehicles = []\n",
    "\n",
    "cars = ['honda', 'toyota', 'peugeot', 'mercedes', 'beetle', 'benz', 'ford']\n",
    "\n",
    "len(cars)\n",
    "\n"
   ]
  },
  {
   "cell_type": "code",
   "execution_count": 7,
   "metadata": {},
   "outputs": [
    {
     "name": "stdout",
     "output_type": "stream",
     "text": [
      "First item: honda\n",
      "Middle item: mercedes\n",
      "Last item: ford\n"
     ]
    }
   ],
   "source": [
    "# 4\n",
    "\n",
    "cars = ['honda', 'toyota', 'peugeot', 'mercedes', 'beetle', 'benz', 'ford']\n",
    "\n",
    "first_item = cars[0]\n",
    "middle_item = cars[len(cars) // 2]  # Using integer division to find the middle\n",
    "last_item = cars[-1]\n",
    "\n",
    "print(f\"First item: {first_item}\")\n",
    "print(f\"Middle item: {middle_item}\")\n",
    "print(f\"Last item: {last_item}\")\n",
    "\n"
   ]
  },
  {
   "cell_type": "code",
   "execution_count": null,
   "metadata": {},
   "outputs": [],
   "source": [
    "# 5\n",
    "\n",
    "mixed_data_types = ['faiz', '35', '7', 'married', 'gwallameji']"
   ]
  },
  {
   "cell_type": "code",
   "execution_count": 78,
   "metadata": {},
   "outputs": [
    {
     "name": "stdout",
     "output_type": "stream",
     "text": [
      "['Facebook', 'Google', 'Microsoft', 'Apple', 'IBM', 'Oracle', 'Amazon']\n",
      "7\n",
      "First_company: honda\n",
      "Middle_company: mercedes\n",
      "Last_company: ford\n",
      "['Twitter', 'Google', 'Microsoft', 'Apple', 'IBM', 'Oracle', 'Amazon']\n",
      "['Twitter', 'Google', 'Microsoft', 'Apple', 'Avive', 'IBM', 'Oracle', 'Amazon', 'Facebook']\n",
      "updated list: ['Twitter', 'Google', 'MICROSOFT', 'Apple', 'Avive', 'IBM', 'Oracle', 'Amazon', 'Facebook']\n",
      "Twitter#; Google#; MICROSOFT#; Apple#; Avive#; IBM#; Oracle#; Amazon#; Facebook\n",
      "Yes, 'Google' exists in the it_companies list.\n"
     ]
    }
   ],
   "source": [
    "# 6 - 15\n",
    "\n",
    "it_companies = ['Facebook', 'Google', 'Microsoft', 'Apple', 'IBM', 'Oracle', 'Amazon']\n",
    "\n",
    "print(it_companies)\n",
    "\n",
    "no_of_companies = len(it_companies)\n",
    "print(no_of_companies)\n",
    "\n",
    "first_company = it_companies[0]\n",
    "middle_company = it_companies[len(cars) // 2]  # Using integer division to find the middle\n",
    "last_company = it_companies[-1]\n",
    "\n",
    "print(f\"First_company: {first_item}\")\n",
    "print(f\"Middle_company: {middle_item}\")\n",
    "print(f\"Last_company: {last_item}\")\n",
    "\n",
    "it_companies[0] = 'Twitter'\n",
    "print(it_companies)\n",
    "\n",
    "it_companies.append('Facebook')\n",
    "\n",
    "it_companies.insert(4, 'Avive')\n",
    "print(it_companies)\n",
    "\n",
    "it_companies[2] = it_companies[2].upper()\n",
    "print(\"updated list:\", it_companies)\n",
    "\n",
    "joined_list = '#; '.join(it_companies)\n",
    "print(joined_list)\n",
    "\n",
    "if \"Google\" in it_companies:\n",
    "    print(\"Yes, 'Google' exists in the it_companies list.\")\n",
    "else:\n",
    "    print(\"No, 'Google' does not exist in the list.\")\n"
   ]
  },
  {
   "cell_type": "code",
   "execution_count": 77,
   "metadata": {},
   "outputs": [
    {
     "name": "stdout",
     "output_type": "stream",
     "text": [
      "Sorted list:  ['Amazon', 'Apple', 'Facebook', 'Google', 'IBM', 'Microsoft', 'Oracle']\n",
      "['Oracle', 'Microsoft', 'IBM', 'Google', 'Facebook', 'Apple', 'Amazon']\n",
      "['Oracle', 'Microsoft', 'IBM']\n",
      "['Facebook', 'Apple', 'Amazon']\n",
      "3\n"
     ]
    }
   ],
   "source": [
    "# 16 - 20\n",
    "\n",
    "it_companies = ['Facebook', 'Google', 'Microsoft', 'Apple', 'IBM', 'Oracle', 'Amazon']\n",
    "it_companies.sort()\n",
    "print(\"Sorted list: \", it_companies)\n",
    "\n",
    "it_companies.sort(reverse=True)\n",
    "print(it_companies)\n",
    "\n",
    "first_three_items = it_companies[:3]\n",
    "print(first_three_items)\n",
    "\n",
    "last_three_items = it_companies[-3:]\n",
    "print(last_three_items)\n",
    "\n",
    "middle_it_company = len(it_companies) // 2\n",
    "print(middle_it_company)\n",
    "\n"
   ]
  },
  {
   "cell_type": "code",
   "execution_count": 81,
   "metadata": {},
   "outputs": [
    {
     "name": "stdout",
     "output_type": "stream",
     "text": [
      "['Google', 'Microsoft', 'Apple', 'IBM', 'Oracle', 'Amazon']\n"
     ]
    }
   ],
   "source": [
    "# 21\n",
    "\n",
    "it_companies = ['Facebook', 'Google', 'Microsoft', 'Apple', 'IBM', 'Oracle', 'Amazon']\n",
    "it_companies.pop(0)\n",
    "print(it_companies)\n"
   ]
  },
  {
   "cell_type": "code",
   "execution_count": 92,
   "metadata": {},
   "outputs": [
    {
     "name": "stdout",
     "output_type": "stream",
     "text": [
      "['Facebook', 'Google', 'Microsoft', 'IBM', 'Oracle', 'Amazon']\n",
      "['Facebook', 'Google', 'Microsoft', 'IBM', 'Oracle']\n",
      "[]\n"
     ]
    }
   ],
   "source": [
    "# 22\n",
    "\n",
    "it_companies = ['Facebook', 'Google', 'Microsoft', 'Apple', 'IBM', 'Oracle', 'Amazon']\n",
    "\n",
    "middle_company = len(it_companies) // 2\n",
    "it_companies.pop(middle_company)\n",
    "print(it_companies)\n",
    "\n",
    "it_companies.pop(-1)\n",
    "print(it_companies)\n",
    "\n",
    "it_companies.clear()\n",
    "print(it_companies)\n",
    "\n",
    "del it_companies\n",
    "\n"
   ]
  },
  {
   "cell_type": "code",
   "execution_count": 97,
   "metadata": {},
   "outputs": [
    {
     "name": "stdout",
     "output_type": "stream",
     "text": [
      "None\n"
     ]
    }
   ],
   "source": [
    "# 26\n",
    "\n",
    "front_end = ['HTML', 'CSS', 'JS', 'React', 'Redux']\n",
    "back_end = ['Node','Express', 'MongoDB']\n",
    "\n",
    "front_end.extend(back_end)\n"
   ]
  },
  {
   "cell_type": "markdown",
   "metadata": {},
   "source": [
    "### Exercises: Level 2"
   ]
  },
  {
   "cell_type": "code",
   "execution_count": 108,
   "metadata": {},
   "outputs": [
    {
     "name": "stdout",
     "output_type": "stream",
     "text": [
      "[19, 19, 20, 22, 24, 24, 24, 25, 25, 26]\n",
      "19 26\n",
      "22.8\n",
      "7\n"
     ]
    }
   ],
   "source": [
    "ages = [19, 22, 19, 24, 20, 25, 26, 24, 25, 24]\n",
    "\n",
    "ages.sort()\n",
    "print(ages)\n",
    "\n",
    "min_value = min(ages)\n",
    "max_value = max(ages)\n",
    "print(min_value, max_value)\n",
    "\n",
    "median_value = statistics.median(ages)\n",
    "print(\"Median Value:\" median_value)\n",
    "\n",
    "average_value = sum(ages)/len(ages)\n",
    "print(average_value)\n",
    "\n",
    "range_value = max_value - min_value\n",
    "print(range_value)\n"
   ]
  }
 ],
 "metadata": {
  "kernelspec": {
   "display_name": "Python 3",
   "language": "python",
   "name": "python3"
  },
  "language_info": {
   "codemirror_mode": {
    "name": "ipython",
    "version": 3
   },
   "file_extension": ".py",
   "mimetype": "text/x-python",
   "name": "python",
   "nbconvert_exporter": "python",
   "pygments_lexer": "ipython3",
   "version": "3.11.3"
  }
 },
 "nbformat": 4,
 "nbformat_minor": 2
}
