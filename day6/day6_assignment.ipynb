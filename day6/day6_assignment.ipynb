{
 "cells": [
  {
   "cell_type": "code",
   "execution_count": null,
   "metadata": {},
   "outputs": [],
   "source": []
  },
  {
   "cell_type": "markdown",
   "metadata": {},
   "source": [
    "### Exercises: Level 1"
   ]
  },
  {
   "cell_type": "code",
   "execution_count": 1,
   "metadata": {},
   "outputs": [
    {
     "name": "stdout",
     "output_type": "stream",
     "text": [
      "('Hassan', 'Musa', 'Isah', 'Daha', 'Umar', 'Hassana', 'Hussaina', 'Sabila', 'Maryam', 'Huda')\n",
      "('Hassan', 'Musa', 'Isah', 'Daha', 'Umar', 'Hassana', 'Hussaina', 'Sabila', 'Maryam', 'Huda', 'Father', 'Mother')\n"
     ]
    }
   ],
   "source": [
    "tuple_one = ()\n",
    "\n",
    "brothers = ('Hassan', 'Musa', 'Isah', 'Daha', 'Umar')\n",
    "sisters = ('Hassana', 'Hussaina', 'Sabila', 'Maryam', 'Huda')\n",
    "\n",
    "siblings = brothers + sisters\n",
    "print(siblings)\n",
    "\n",
    "len(siblings)\n",
    "\n",
    "family_members = siblings + ('Father', 'Mother')\n",
    "print(family_members)"
   ]
  },
  {
   "cell_type": "markdown",
   "metadata": {},
   "source": [
    "### Exercises: Level 2"
   ]
  },
  {
   "cell_type": "code",
   "execution_count": 4,
   "metadata": {},
   "outputs": [
    {
     "name": "stdout",
     "output_type": "stream",
     "text": [
      "Siblings: Musa\n",
      "Parents: ['Isah', 'Sani', 'father', 'mother']\n"
     ]
    }
   ],
   "source": [
    "\n",
    "# Family members tuple\n",
    "family_members = ('Musa', 'Isah', 'Sani', 'father', 'mother')\n",
    "\n",
    "# Unpacking into separate variables\n",
    "siblings, *parents = family_members\n",
    "\n",
    "# Printing the unpacked variables\n",
    "print(\"Siblings:\", siblings)\n",
    "print(\"Parents:\", parents)\n"
   ]
  },
  {
   "cell_type": "code",
   "execution_count": 4,
   "metadata": {},
   "outputs": [
    {
     "name": "stdout",
     "output_type": "stream",
     "text": [
      "('mango', 'apple', 'orange', 'carrot', 'cucumber', 'cabbage', 'milk', 'milk1', 'milk2')\n",
      "['mango', 'apple', 'orange', 'carrot', 'cucumber', 'cabbage', 'milk', 'milk1', 'milk2']\n",
      "['mango', 'apple', 'orange']\n",
      "['milk', 'milk1', 'milk2']\n"
     ]
    },
    {
     "data": {
      "text/plain": [
       "True"
      ]
     },
     "execution_count": 4,
     "metadata": {},
     "output_type": "execute_result"
    }
   ],
   "source": [
    "\n",
    "fruits = ('mango', 'apple', 'orange') \n",
    "vegetables = ('carrot', 'cucumber', 'cabbage')  \n",
    "animal_products = ('milk', 'milk1', 'milk2')\n",
    "\n",
    "food_stuff_tp = fruits + vegetables + animal_products\n",
    "print(food_stuff_tp)\n",
    "\n",
    "food_stuff_lt = list(food_stuff_tp)\n",
    "print(food_stuff_lt)\n",
    "\n",
    "first_three_items = food_stuff_lt[:3]\n",
    "last_three_items = food_stuff_lt[-3:]\n",
    "print(first_three_items)\n",
    "print(last_three_items)\n",
    "\n",
    "del food_stuff_tp\n",
    "#mango in food_stuff_tp\n",
    "\n",
    "nordic_countries = ('Denmark', 'Finland','Iceland', 'Norway', 'Sweden')\n",
    "'Estonia' in nordic_countries\n",
    "'Iceland' in nordic_countries"
   ]
  }
 ],
 "metadata": {
  "kernelspec": {
   "display_name": "Python 3",
   "language": "python",
   "name": "python3"
  },
  "language_info": {
   "codemirror_mode": {
    "name": "ipython",
    "version": 3
   },
   "file_extension": ".py",
   "mimetype": "text/x-python",
   "name": "python",
   "nbconvert_exporter": "python",
   "pygments_lexer": "ipython3",
   "version": "3.11.3"
  }
 },
 "nbformat": 4,
 "nbformat_minor": 2
}
