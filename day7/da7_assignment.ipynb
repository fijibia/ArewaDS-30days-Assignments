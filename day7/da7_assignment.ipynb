{
 "cells": [
  {
   "cell_type": "code",
   "execution_count": null,
   "metadata": {},
   "outputs": [],
   "source": []
  },
  {
   "cell_type": "markdown",
   "metadata": {},
   "source": [
    "### Exercises: Level 1"
   ]
  },
  {
   "cell_type": "code",
   "execution_count": 1,
   "metadata": {},
   "outputs": [],
   "source": [
    "# sets\n",
    "it_companies = {'Facebook', 'Google', 'Microsoft', 'Apple', 'IBM', 'Oracle', 'Amazon'}\n",
    "A = {19, 22, 24, 20, 25, 26}\n",
    "B = {19, 22, 20, 25, 26, 24, 28, 27}\n",
    "age = [22, 19, 24, 25, 26, 24, 25, 24]"
   ]
  },
  {
   "cell_type": "code",
   "execution_count": 5,
   "metadata": {},
   "outputs": [],
   "source": [
    "# Find the length of the set it_companies\n",
    "len(it_companies)\n",
    "\n",
    "#Add 'Twitter' to it_companies\n",
    "it_companies.add('Twitter')\n",
    "\n",
    "#Insert multiple IT companies at once to the set it_companies\n",
    "it_companies.update(['Bing', 'cordoba', 'Adobe'])\n",
    "\n",
    "##Remove one of the companies from the set it_companies\n",
    "it_companies.remove('cordoba')\n",
    "\n",
    "#What is the difference between remove and discard\n"
   ]
  },
  {
   "cell_type": "markdown",
   "metadata": {},
   "source": [
    "### Exercises: Level 2"
   ]
  },
  {
   "cell_type": "code",
   "execution_count": 14,
   "metadata": {},
   "outputs": [
    {
     "name": "stdout",
     "output_type": "stream",
     "text": [
      "{19, 20, 22, 24, 25, 26, 'B'}\n",
      "{19, 20, 22, 24, 25, 26}\n",
      "A and B have common elements\n",
      "A union B: {19, 20, 22, 24, 25, 26, 27, 28}\n",
      "B union A: {19, 20, 22, 24, 25, 26, 27, 28}\n"
     ]
    }
   ],
   "source": [
    "it_companies = {'Facebook', 'Google', 'Microsoft', 'Apple', 'IBM', 'Oracle', 'Amazon'}\n",
    "A = {19, 22, 24, 20, 25, 26}\n",
    "B = {19, 22, 20, 25, 26, 24, 28, 27}\n",
    "age = [22, 19, 24, 25, 26, 24, 25, 24]\n",
    "\n",
    "#Join A and B\n",
    "a_union_b = A.union('B')\n",
    "print(a_union_b)\n",
    "\n",
    "#Find A intersection B\n",
    "a_intersection_b = A.intersection(B)\n",
    "print(a_intersection_b)\n",
    "\n",
    "#Is A subset of B\n",
    "A.issubset(B)\n",
    "\n",
    "#Are A and B disjoint sets\n",
    "if not A.intersection(B):\n",
    "    print(\"A and B are disjoint sets\")\n",
    "else:\n",
    "    print(\"A and B have common elements\")\n",
    "\n",
    "#Join A with B and B with A\n",
    "result1 = A.union(B)\n",
    "result2 = B | A\n",
    "\n",
    "print(\"A union B:\", result1)\n",
    "print(\"B union A:\", result2)\n",
    "\n",
    "#What is the symmetric difference between A and B\n",
    "B.symmetric_difference(A)\n",
    "\n",
    "#Delete the sets completely\n",
    "del A\n",
    "del B\n",
    "del age\n"
   ]
  },
  {
   "cell_type": "markdown",
   "metadata": {},
   "source": [
    "### Exercises: Level 3"
   ]
  },
  {
   "cell_type": "code",
   "execution_count": 16,
   "metadata": {},
   "outputs": [
    {
     "name": "stdout",
     "output_type": "stream",
     "text": [
      "The length of the list is greater than the length of the set.\n"
     ]
    }
   ],
   "source": [
    "it_companies = {'Facebook', 'Google', 'Microsoft', 'Apple', 'IBM', 'Oracle', 'Amazon'}\n",
    "A = {19, 22, 24, 20, 25, 26}\n",
    "B = {19, 22, 20, 25, 26, 24, 28, 27}\n",
    "age = [22, 19, 24, 25, 26, 24, 25, 24]\n",
    "\n",
    "#Convert the ages to a set and compare the length of the list and the set, which one is bigger?\n",
    "ages_set = set(age)\n",
    "\n",
    "if len(age) > len(ages_set):\n",
    "    print(\"The length of the list is greater than the length of the set.\")\n",
    "elif len(ages) < len(ages_set):\n",
    "    print(\"The length of the set is greater than the length of the list.\")\n",
    "else:\n",
    "    print(\"The length of the list and the set are equal.\")\n",
    "\n"
   ]
  },
  {
   "cell_type": "code",
   "execution_count": 17,
   "metadata": {},
   "outputs": [
    {
     "name": "stdout",
     "output_type": "stream",
     "text": [
      "Unique Words: {'am', 'a', 'teacher', 'I', 'love', 'people', 'inspire', 'teach', 'and', 'to'}\n"
     ]
    }
   ],
   "source": [
    "sentence = \"I am a teacher and I love to inspire and teach people\"\n",
    "\n",
    "# Split the sentence into words\n",
    "words = sentence.split()\n",
    "\n",
    "# Use a set to get unique words\n",
    "unique_words = set(words)\n",
    "\n",
    "# Display the unique words\n",
    "print(\"Unique Words:\", unique_words)"
   ]
  }
 ],
 "metadata": {
  "kernelspec": {
   "display_name": "Python 3",
   "language": "python",
   "name": "python3"
  },
  "language_info": {
   "codemirror_mode": {
    "name": "ipython",
    "version": 3
   },
   "file_extension": ".py",
   "mimetype": "text/x-python",
   "name": "python",
   "nbconvert_exporter": "python",
   "pygments_lexer": "ipython3",
   "version": "3.11.3"
  }
 },
 "nbformat": 4,
 "nbformat_minor": 2
}
