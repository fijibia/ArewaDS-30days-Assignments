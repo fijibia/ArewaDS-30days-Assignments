{
 "cells": [
  {
   "cell_type": "code",
   "execution_count": null,
   "metadata": {},
   "outputs": [
    {
     "ename": "",
     "evalue": "",
     "output_type": "error",
     "traceback": [
      "\u001b[1;31mFailed to start the Kernel. \n",
      "\u001b[1;31mUnable to start Kernel 'Python 3.11.3' due to a timeout waiting for the ports to get used. \n",
      "\u001b[1;31mView Jupyter <a href='command:jupyter.viewOutput'>log</a> for further details."
     ]
    }
   ],
   "source": [
    "# Create an empty dictionary called dog\n",
    "dog = {}\n",
    "\n",
    "#Add name, color, breed, legs, age to the dog dictionary\n",
    "dog = {\n",
    "    \"name\":  \"jahis\",\n",
    "    \"color\": \"red\",\n",
    "    \"breed\":  \"local\",\n",
    "    \"legs\":    \"4\",\n",
    "    \"age\":     \"5\"\n",
    "}\n",
    "print(dog)\n",
    "\n",
    "#Create a student dictionary\n",
    "\n",
    "student = {'first_name': 'saad', 'last_name': 'muhammad', 'gender': 'male', 'age': '20', 'marital status': 'single', 'skills': 'computing', 'country': 'nigeria', 'city': 'bauchi', 'address': 'gwallameji'}\n",
    "print(student)\n",
    "\n",
    "#Get the length of the student dictionary\n",
    "len(student)\n",
    "\n",
    "#Get the value of skills and check the data type, it should be a list\n",
    "skills_value = (student.get('skills'))\n",
    "data_type = type(skills_value)\n",
    "print(skills_value)\n",
    "print(data_type)\n",
    "\n",
    "#Modify the skills values by adding one or two skills\n",
    "#additional_skills = [\"React\", \"Data Analysis\"]\n",
    "#student['skills'].append(additional_skills)\n",
    "\n",
    "#Get the dictionary keys as a list\n",
    "keys = dog.keys()\n",
    "print(keys)\n",
    "\n",
    "#Get the dictionary values as a list\n",
    "values = dog.keys()\n",
    "print(values)\n",
    "\n",
    "#Change the dictionary to a list of tuples using items() method\n",
    "tuple_list = list(student.items())\n",
    "print(\"List of Tuples:\", tuple_list)\n",
    "\n",
    "#Delete one of the items in the dictionary\n",
    "dog.pop('breed')\n",
    "\n",
    "#Delete one of the dictionaries\n",
    "del dog\n"
   ]
  }
 ],
 "metadata": {
  "kernelspec": {
   "display_name": "Python 3",
   "language": "python",
   "name": "python3"
  },
  "language_info": {
   "codemirror_mode": {
    "name": "ipython",
    "version": 3
   },
   "file_extension": ".py",
   "mimetype": "text/x-python",
   "name": "python",
   "nbconvert_exporter": "python",
   "pygments_lexer": "ipython3",
   "version": "3.11.3"
  }
 },
 "nbformat": 4,
 "nbformat_minor": 2
}
