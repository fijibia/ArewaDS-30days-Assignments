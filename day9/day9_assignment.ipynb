{
 "cells": [
  {
   "cell_type": "markdown",
   "metadata": {},
   "source": [
    "### Exercises: Level 1"
   ]
  },
  {
   "cell_type": "code",
   "execution_count": 3,
   "metadata": {},
   "outputs": [
    {
     "name": "stdout",
     "output_type": "stream",
     "text": [
      "You are old enough to drive.\n",
      "I am older than you by 7 years.\n",
      "a is smaller than b.\n"
     ]
    }
   ],
   "source": [
    "# Get user input using input(“Enter your age: ”).\n",
    "\n",
    "user_age = int(input(\"Enter your age: \"))\n",
    "\n",
    "# Check age and provide feedback\n",
    "if user_age >= 18:\n",
    "    print(\"You are old enough to drive.\")\n",
    "else:\n",
    "    years_to_wait = 18 - user_age\n",
    "    print(f\"Wait for {years_to_wait} more years to drive.\")\n"
   ]
  },
  {
   "cell_type": "code",
   "execution_count": 5,
   "metadata": {},
   "outputs": [
    {
     "name": "stdout",
     "output_type": "stream",
     "text": [
      "I am older than you by 6 years.\n"
     ]
    }
   ],
   "source": [
    "# Compare the values of my_age and your_age using if … else.\n",
    "\n",
    "# Get user input for your age\n",
    "your_age = int(input(\"Enter your age: \"))\n",
    "\n",
    "# Assume my age for the comparison\n",
    "my_age = 25  # You can replace this with your actual age\n",
    "\n",
    "# Compare ages and provide feedback\n",
    "if my_age > your_age:\n",
    "    age_difference = my_age - your_age\n",
    "    if age_difference == 1:\n",
    "        print(f\"I am older than you by {age_difference} year.\")\n",
    "    else:\n",
    "        print(f\"I am older than you by {age_difference} years.\")\n",
    "elif my_age < your_age:\n",
    "    age_difference = your_age - my_age\n",
    "    if age_difference == 1:\n",
    "        print(f\"You are older than me by {age_difference} year.\")\n",
    "    else:\n",
    "        print(f\"You are older than me by {age_difference} years.\")\n",
    "else:\n",
    "    print(\"We are of the same age!\")"
   ]
  },
  {
   "cell_type": "code",
   "execution_count": 4,
   "metadata": {},
   "outputs": [
    {
     "name": "stdout",
     "output_type": "stream",
     "text": [
      "a is smaller than b.\n"
     ]
    }
   ],
   "source": [
    "# Get two numbers from the user using input prompt.\n",
    "\n",
    "# Get user input for two numbers\n",
    "a = float(input(\"Enter the first number (a): \"))\n",
    "b = float(input(\"Enter the second number (b): \"))\n",
    "\n",
    "# Compare the numbers and provide feedback\n",
    "if a > b:\n",
    "    print(\"a is greater than b.\")\n",
    "elif a < b:\n",
    "    print(\"a is smaller than b.\")\n",
    "else:\n",
    "    print(\"a is equal to b.\")"
   ]
  },
  {
   "cell_type": "markdown",
   "metadata": {},
   "source": [
    "### Exercises: Level 2"
   ]
  },
  {
   "cell_type": "code",
   "execution_count": 6,
   "metadata": {},
   "outputs": [
    {
     "name": "stdout",
     "output_type": "stream",
     "text": [
      "The student's grade is: B\n"
     ]
    }
   ],
   "source": [
    "# Write a code which gives grade to students according to theirs scores:\n",
    "\n",
    "# Get user input for the student's score\n",
    "score = float(input(\"Enter the student's score: \"))\n",
    "\n",
    "# Assign grades based on the score range\n",
    "if 80 <= score <= 100:\n",
    "    grade = 'A'\n",
    "elif 70 <= score < 80:\n",
    "    grade = 'B'\n",
    "elif 60 <= score < 70:\n",
    "    grade = 'C'\n",
    "elif 50 <= score < 60:\n",
    "    grade = 'D'\n",
    "elif 0 <= score < 50:\n",
    "    grade = 'F'\n",
    "else:\n",
    "    grade = 'Invalid score (outside the range 0-100)'\n",
    "\n",
    "# Print the assigned grade\n",
    "print(f\"The student's grade is: {grade}\")\n",
    "\n"
   ]
  },
  {
   "cell_type": "code",
   "execution_count": 7,
   "metadata": {},
   "outputs": [
    {
     "name": "stdout",
     "output_type": "stream",
     "text": [
      "The season in June is: Summer\n"
     ]
    }
   ],
   "source": [
    "# Check if the season is Autumn, Winter, Spring or Summer.\n",
    "\n",
    "# Get user input for the month\n",
    "month = input(\"Enter the month: \").capitalize()\n",
    "\n",
    "# Determine the season based on the month\n",
    "if month in ['September', 'October', 'November']:\n",
    "    season = 'Autumn'\n",
    "elif month in ['December', 'January', 'February']:\n",
    "    season = 'Winter'\n",
    "elif month in ['March', 'April', 'May']:\n",
    "    season = 'Spring'\n",
    "elif month in ['June', 'July', 'August']:\n",
    "    season = 'Summer'\n",
    "else:\n",
    "    season = 'Invalid month'\n",
    "\n",
    "# Print the determined season\n",
    "print(f\"The season in {month} is: {season}\")\n"
   ]
  },
  {
   "cell_type": "code",
   "execution_count": 8,
   "metadata": {},
   "outputs": [
    {
     "name": "stdout",
     "output_type": "stream",
     "text": [
      "Apple has been added to the list.\n",
      "Modified list of fruits: ['banana', 'orange', 'mango', 'lemon', 'apple']\n"
     ]
    }
   ],
   "source": [
    "# The following list contains some fruits:\n",
    "\n",
    "# List of fruits\n",
    "fruits = ['banana', 'orange', 'mango', 'lemon']\n",
    "\n",
    "# Get user input for a new fruit\n",
    "new_fruit = input(\"Enter a fruit: \").lower()  # Convert to lowercase for case-insensitive comparison\n",
    "\n",
    "# Check if the fruit already exists in the list\n",
    "if new_fruit in fruits:\n",
    "    print('That fruit already exists in the list')\n",
    "else:\n",
    "    # Add the new fruit to the list\n",
    "    fruits.append(new_fruit)\n",
    "    print(f\"{new_fruit.capitalize()} has been added to the list.\")\n",
    "\n",
    "# Print the modified list\n",
    "print(\"Modified list of fruits:\", fruits)\n"
   ]
  },
  {
   "cell_type": "markdown",
   "metadata": {},
   "source": [
    "### Exercises: Level 3"
   ]
  },
  {
   "cell_type": "code",
   "execution_count": 9,
   "metadata": {},
   "outputs": [
    {
     "name": "stdout",
     "output_type": "stream",
     "text": [
      "Middle skill: Node\n",
      "Person has Python skill\n",
      "He is a backend developer\n",
      "Asabeneh is married and lives in Finland.\n"
     ]
    }
   ],
   "source": [
    "# Here we have a person dictionary. Feel free to modify it!\n",
    "\n",
    "person = {\n",
    "    'first_name': 'Asabeneh',\n",
    "    'last_name': 'Yetayeh',\n",
    "    'age': 250,\n",
    "    'country': 'Finland',\n",
    "    'is_married': True,\n",
    "    'skills': ['JavaScript', 'React', 'Node', 'MongoDB', 'Python'],\n",
    "    'address': {\n",
    "        'street': 'Space street',\n",
    "        'zipcode': '02210'\n",
    "    }\n",
    "}\n",
    "\n",
    "# Check if the person dictionary has 'skills' key\n",
    "if 'skills' in person:\n",
    "    # Print out the middle skill in the skills list\n",
    "    skills = person['skills']\n",
    "    if skills:\n",
    "        middle_skill_index = len(skills) // 2\n",
    "        print(f\"Middle skill: {skills[middle_skill_index]}\")\n",
    "\n",
    "    # Check if the person has 'Python' skill\n",
    "    if 'Python' in skills:\n",
    "        print('Person has Python skill')\n",
    "\n",
    "    # Check for developer title based on skills\n",
    "    if skills == ['JavaScript', 'React']:\n",
    "        print('He is a front end developer')\n",
    "    elif set(['Node', 'Python', 'MongoDB']).issubset(set(skills)):\n",
    "        print('He is a backend developer')\n",
    "    elif set(['React', 'Node', 'MongoDB']).issubset(set(skills)):\n",
    "        print('He is a fullstack developer')\n",
    "    else:\n",
    "        print('Unknown title')\n",
    "\n",
    "# Check for marital status and country\n",
    "if person.get('is_married') and person.get('country') == 'Finland':\n",
    "    print(f\"{person['first_name']} is married and lives in Finland.\")\n"
   ]
  }
 ],
 "metadata": {
  "kernelspec": {
   "display_name": "Python 3",
   "language": "python",
   "name": "python3"
  },
  "language_info": {
   "codemirror_mode": {
    "name": "ipython",
    "version": 3
   },
   "file_extension": ".py",
   "mimetype": "text/x-python",
   "name": "python",
   "nbconvert_exporter": "python",
   "pygments_lexer": "ipython3",
   "version": "3.11.3"
  }
 },
 "nbformat": 4,
 "nbformat_minor": 2
}
